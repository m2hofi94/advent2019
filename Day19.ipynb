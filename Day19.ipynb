{
 "cells": [
  {
   "cell_type": "code",
   "execution_count": 28,
   "metadata": {},
   "outputs": [],
   "source": [
    "%run util.ipynb\n",
    "from intcode import VM\n",
    "import math"
   ]
  },
  {
   "cell_type": "code",
   "execution_count": 29,
   "metadata": {},
   "outputs": [],
   "source": [
    "program = get_puzzle(19)"
   ]
  },
  {
   "cell_type": "code",
   "execution_count": 136,
   "metadata": {},
   "outputs": [],
   "source": [
    "def val(x,y):\n",
    "    return VM(program, [x,y]).run()"
   ]
  },
  {
   "cell_type": "code",
   "execution_count": 423,
   "metadata": {},
   "outputs": [],
   "source": [
    "n = 50\n",
    "res = np.zeros((n,n))\n",
    "start_x = 7\n",
    "last_x = 7\n",
    "for i in range(10):\n",
    "    for j in range(10):\n",
    "        res[j,i] = val(i,j)\n",
    "for y in range(10,n):\n",
    "    c = val(start_x,y)\n",
    "    while c == 0:\n",
    "        start_x += 1\n",
    "        c = val(start_x,y)\n",
    "    #\n",
    "    #x = last_x\n",
    "    c = val(last_x, y)\n",
    "    while c == 1:\n",
    "        last_x += 1\n",
    "        c = val(last_x,y)\n",
    "    last_x -= 1\n",
    "    res[y,start_x:last_x+1] = 1"
   ]
  },
  {
   "cell_type": "code",
   "execution_count": 424,
   "metadata": {},
   "outputs": [
    {
     "data": {
      "text/plain": [
       "189.0"
      ]
     },
     "execution_count": 424,
     "metadata": {},
     "output_type": "execute_result"
    }
   ],
   "source": [
    "sum(sum(res))"
   ]
  },
  {
   "cell_type": "code",
   "execution_count": 425,
   "metadata": {},
   "outputs": [
    {
     "data": {
      "text/plain": [
       "<matplotlib.image.AxesImage at 0x7fd107689dd0>"
      ]
     },
     "execution_count": 425,
     "metadata": {},
     "output_type": "execute_result"
    },
    {
     "data": {
      "image/png": "[encoded data removed]",
      "text/plain": [
       "<Figure size 432x288 with 1 Axes>"
      ]
     },
     "metadata": {
      "needs_background": "light"
     },
     "output_type": "display_data"
    }
   ],
   "source": [
    "plt.imshow(res)"
   ]
  },
  {
   "cell_type": "code",
   "execution_count": 426,
   "metadata": {},
   "outputs": [
    {
     "data": {
      "text/plain": [
       "7621042"
      ]
     },
     "execution_count": 426,
     "metadata": {},
     "output_type": "execute_result"
    }
   ],
   "source": [
    "x = 0\n",
    "y = 50\n",
    "size = 100\n",
    "while True:\n",
    "    while val(x,y) != 1:\n",
    "        x+=1\n",
    "    if 1 == val(x,y-size+1) == val(x+size-1,y) == val(x+size-1,y-size+1):\n",
    "        break\n",
    "    y += 1\n",
    "    x -= 1\n",
    "x*10000+y-size+1"
   ]
  },
  {
   "cell_type": "code",
   "execution_count": null,
   "metadata": {},
   "outputs": [],
   "source": []
  }
 ],
 "metadata": {
  "kernelspec": {
   "display_name": "Python 3",
   "language": "python",
   "name": "python3"
  },
  "language_info": {
   "codemirror_mode": {
    "name": "ipython",
    "version": 3
   },
   "file_extension": ".py",
   "mimetype": "text/x-python",
   "name": "python",
   "nbconvert_exporter": "python",
   "pygments_lexer": "ipython3",
   "version": "3.7.5"
  }
 },
 "nbformat": 4,
 "nbformat_minor": 4
}
