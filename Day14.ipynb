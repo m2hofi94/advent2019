{
 "cells": [
  {
   "cell_type": "code",
   "execution_count": 7,
   "metadata": {},
   "outputs": [],
   "source": [
    "%run util.ipynb\n",
    "import math"
   ]
  },
  {
   "cell_type": "code",
   "execution_count": 15,
   "metadata": {},
   "outputs": [],
   "source": [
    "inp = get_test(14,1)\n",
    "inp = [l.split(' => ') for l in inp]"
   ]
  },
  {
   "cell_type": "code",
   "execution_count": 16,
   "metadata": {},
   "outputs": [],
   "source": [
    "reactions = {}\n",
    "for reaction in inp:\n",
    "    ls = defaultdict(int)\n",
    "    for l in reaction[0].split(', '):\n",
    "        amount, name = l.split(' ')\n",
    "        ls[name] = int(amount)\n",
    "    amount, name = reaction[1].split(' ')\n",
    "    reactions[name] = {\"n\": int(amount), \"in\": ls}"
   ]
  },
  {
   "cell_type": "code",
   "execution_count": 17,
   "metadata": {},
   "outputs": [
    {
     "data": {
      "text/plain": [
       "{'A': {'n': 2, 'in': defaultdict(int, {'ORE': 9})},\n",
       " 'B': {'n': 3, 'in': defaultdict(int, {'ORE': 8})},\n",
       " 'C': {'n': 5, 'in': defaultdict(int, {'ORE': 7})},\n",
       " 'AB': {'n': 1, 'in': defaultdict(int, {'A': 3, 'B': 4})},\n",
       " 'BC': {'n': 1, 'in': defaultdict(int, {'B': 5, 'C': 7})},\n",
       " 'CA': {'n': 1, 'in': defaultdict(int, {'C': 4, 'A': 1})},\n",
       " 'FUEL': {'n': 1, 'in': defaultdict(int, {'AB': 2, 'BC': 3, 'CA': 4})}}"
      ]
     },
     "execution_count": 17,
     "metadata": {},
     "output_type": "execute_result"
    }
   ],
   "source": [
    "reactions"
   ]
  }
 ],
 "metadata": {
  "kernelspec": {
   "display_name": "Python 3",
   "language": "python",
   "name": "python3"
  },
  "language_info": {
   "codemirror_mode": {
    "name": "ipython",
    "version": 3
   },
   "file_extension": ".py",
   "mimetype": "text/x-python",
   "name": "python",
   "nbconvert_exporter": "python",
   "pygments_lexer": "ipython3",
   "version": "3.7.5"
  }
 },
 "nbformat": 4,
 "nbformat_minor": 4
}
