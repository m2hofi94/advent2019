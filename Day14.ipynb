{
 "cells": [
  {
   "cell_type": "code",
   "execution_count": 1,
   "metadata": {},
   "outputs": [],
   "source": [
    "%run util.ipynb\n",
    "import math"
   ]
  },
  {
   "cell_type": "code",
   "execution_count": 22,
   "metadata": {},
   "outputs": [],
   "source": [
    "def parse_input():\n",
    "    reactions = {}\n",
    "    for line in get_puzzle(14):\n",
    "        match = re.search(r'^((?:\\d+ [A-Z]+, )*\\d+ [A-Z]+) => (\\d+) ([A-Z]+)$', line)\n",
    "        output_amount = int(match.group(2))\n",
    "        output = match.group(3)\n",
    "        inputs = []\n",
    "        for input in match.group(1).split(', '):\n",
    "            input_amount, input = input.split(' ')\n",
    "            inputs.append((int(input_amount), input))\n",
    "        reactions[output] = (output_amount, inputs)\n",
    "    return reactions"
   ]
  },
  {
   "cell_type": "code",
   "execution_count": 18,
   "metadata": {},
   "outputs": [],
   "source": [
    "def calc_ore(reactions, target, target_amount, surplus=None):\n",
    "    if surplus is None:\n",
    "        surplus = defaultdict(int)\n",
    "    if target == 'ORE':\n",
    "        return target_amount\n",
    "    elif target_amount <= surplus[target]:\n",
    "        surplus[target] -= target_amount\n",
    "        return 0\n",
    "    target_amount -= surplus[target]\n",
    "    surplus[target] = 0\n",
    "    ore = 0\n",
    "    output_amount, inputs = reactions[target]\n",
    "    copies = math.ceil(target_amount / output_amount)\n",
    "    \n",
    "    for input_amount, input in inputs:\n",
    "        input_amount *= copies\n",
    "        ore += calc_ore(reactions, input, input_amount, surplus)\n",
    "    \n",
    "    surplus[target] += output_amount * copies - target_amount\n",
    "    return ore\n",
    "\n",
    "\n",
    "def part1(reactions):\n",
    "    return calc_ore(reactions, 'FUEL', 1)"
   ]
  },
  {
   "cell_type": "code",
   "execution_count": 24,
   "metadata": {},
   "outputs": [
    {
     "data": {
      "text/plain": [
       "{'TNFQ': (1, [(2, 'MLVWS'), (8, 'LJNWK')]),\n",
       " 'BMWK': (2, [(1, 'BWXQJ')]),\n",
       " 'JQCF': (9, [(1, 'JMGP'), (3, 'WMJW')]),\n",
       " 'QWSLS': (6, [(8, 'BWXQJ'), (10, 'BJWR')]),\n",
       " 'CTPTW': (6, [(3, 'PLSH'), (1, 'TNFQ')]),\n",
       " 'RQCNC': (7, [(11, 'GQDJG'), (5, 'BMWK'), (1, 'FZCK')]),\n",
       " 'PTGXM': (7, [(1, 'VWSRH')]),\n",
       " 'VWSRH': (7, [(104, 'ORE')]),\n",
       " 'KDHF': (7, [(1, 'PTGXM'), (13, 'WMJW'), (1, 'BJGD')]),\n",
       " 'BDJK': (6,\n",
       "  [(12, 'QWSLS'),\n",
       "   (3, 'PLSH'),\n",
       "   (4, 'HFBPX'),\n",
       "   (2, 'DFTH'),\n",
       "   (11, 'BCTRK'),\n",
       "   (4, 'JPKWB'),\n",
       "   (4, 'MKMRC'),\n",
       "   (3, 'XQJZQ')]),\n",
       " 'KRQHC': (2, [(1, 'JQCF'), (3, 'CVSC')]),\n",
       " 'QLRXZ': (7, [(128, 'ORE')]),\n",
       " 'HFQBG': (1, [(32, 'CXLWB'), (18, 'TZWD')]),\n",
       " 'BWXQJ': (9, [(31, 'KDHF')]),\n",
       " 'LJNWK': (9, [(21, 'MLVWS')]),\n",
       " 'CXLWB': (5, [(3, 'QLRXZ')]),\n",
       " 'JTDT': (4,\n",
       "  [(3, 'LQWDR'),\n",
       "   (2, 'WSDH'),\n",
       "   (5, 'JPKWB'),\n",
       "   (1, 'RSTQC'),\n",
       "   (2, 'BJWR'),\n",
       "   (1, 'ZFNR'),\n",
       "   (16, 'QWSLS')]),\n",
       " 'MSTS': (9, [(3, 'BWXQJ'), (14, 'JMGP')]),\n",
       " 'DKWLT': (9, [(1, 'KXMKM'), (2, 'LFCR')]),\n",
       " 'FWQVP': (3, [(6, 'CVSC')]),\n",
       " 'DFTH': (9, [(6, 'XBVH'), (1, 'HFBPX'), (2, 'FZCK')]),\n",
       " 'BCTRK': (2, [(9, 'MSTS')]),\n",
       " 'FDKZ': (2, [(1, 'PLSH'), (28, 'MSTS')]),\n",
       " 'ZFNR': (6, [(10, 'XBVH'), (5, 'BJWR'), (2, 'FWQVP')]),\n",
       " 'XBVH': (6, [(2, 'CVSC')]),\n",
       " 'XQJZQ': (3, [(1, 'BWXQJ'), (2, 'KXMKM')]),\n",
       " 'WMJW': (4, [(1, 'VWSRH'), (1, 'TZWD')]),\n",
       " 'GRWK': (8, [(14, 'CTPTW'), (19, 'JMGP')]),\n",
       " 'BLVK': (5, [(13, 'NLGS'), (1, 'PTGXM'), (3, 'HFQBG')]),\n",
       " 'NLGS': (7, [(2, 'PTGXM')]),\n",
       " 'DLPZ': (3, [(123, 'ORE')]),\n",
       " 'WSDH': (3, [(2, 'ZNRPX'), (35, 'DKWLT')]),\n",
       " 'MKDQF': (2, [(1, 'TZWD'), (1, 'BLVK'), (9, 'BWXQJ')]),\n",
       " 'MLVWS': (2, [(2, 'DLPZ')]),\n",
       " 'VKCL': (8, [(8, 'MKDQF'), (4, 'JQCF'), (12, 'VLMQJ')]),\n",
       " 'BJWR': (7, [(1, 'KRQHC')]),\n",
       " 'LFCR': (9, [(1, 'GRWK'), (2, 'FWQVP')]),\n",
       " 'GQDJG': (2, [(2, 'MSTS')]),\n",
       " 'TZWD': (9, [(132, 'ORE')]),\n",
       " 'RHKZW': (8, [(1, 'FWQVP')]),\n",
       " 'FUEL': (1,\n",
       "  [(43, 'FDKZ'),\n",
       "   (11, 'BJWR'),\n",
       "   (63, 'RHKZW'),\n",
       "   (4, 'PJCZB'),\n",
       "   (1, 'BDJK'),\n",
       "   (13, 'RQCNC'),\n",
       "   (8, 'JTDT'),\n",
       "   (3, 'DKWLT'),\n",
       "   (13, 'JPKWB')]),\n",
       " 'RSTQC': (1, [(1, 'LFCR'), (5, 'DFTH')]),\n",
       " 'KPTF': (8, [(10, 'GQDJG')]),\n",
       " 'JMGP': (7, [(4, 'BWXQJ'), (1, 'MKDQF')]),\n",
       " 'PJCZB': (8,\n",
       "  [(10, 'FGNPM'),\n",
       "   (23, 'DFTH'),\n",
       "   (2, 'CXLWB'),\n",
       "   (6, 'KPTF'),\n",
       "   (3, 'DKWLT'),\n",
       "   (10, 'MKDQF'),\n",
       "   (1, 'MJSG'),\n",
       "   (6, 'RSTQC')]),\n",
       " 'BJGD': (7, [(8, 'VWSRH'), (1, 'DLPZ')]),\n",
       " 'HBKH': (9, [(2, 'BLVK')]),\n",
       " 'HFBPX': (9, [(16, 'LQWDR'), (3, 'MSTS')]),\n",
       " 'KXMKM': (2, [(1, 'TNFQ'), (29, 'HFQBG'), (4, 'BLVK')]),\n",
       " 'MJSG': (8, [(11, 'CVSC')]),\n",
       " 'FGNPM': (6, [(3, 'LFCR')]),\n",
       " 'FZCK': (1, [(11, 'HFQBG'), (13, 'MKDQF')]),\n",
       " 'KBTWZ': (9, [(11, 'BWXQJ'), (1, 'QLRXZ'), (1, 'TNFQ')]),\n",
       " 'LQWDR': (7, [(7, 'XQJZQ'), (6, 'VKCL')]),\n",
       " 'CVSC': (1, [(1, 'LJNWK'), (4, 'HBKH')]),\n",
       " 'JPKWB': (5, [(4, 'PLSH'), (2, 'WSDH'), (2, 'KPTF')]),\n",
       " 'MKMRC': (8, [(1, 'KPTF')]),\n",
       " 'VLMQJ': (2, [(5, 'NLGS'), (2, 'KDHF'), (1, 'KBTWZ')]),\n",
       " 'PLSH': (1, [(4, 'MLVWS'), (1, 'WMJW'), (8, 'LJNWK')]),\n",
       " 'ZNRPX': (7, [(3, 'VKCL')])}"
      ]
     },
     "execution_count": 24,
     "metadata": {},
     "output_type": "execute_result"
    }
   ],
   "source": [
    "rea = parse_input()\n",
    "rea"
   ]
  },
  {
   "cell_type": "code",
   "execution_count": 25,
   "metadata": {},
   "outputs": [
    {
     "data": {
      "text/plain": [
       "1046184"
      ]
     },
     "execution_count": 25,
     "metadata": {},
     "output_type": "execute_result"
    }
   ],
   "source": [
    "part1(rea)"
   ]
  },
  {
   "cell_type": "code",
   "execution_count": 20,
   "metadata": {},
   "outputs": [],
   "source": [
    "def part2(reactions):\n",
    "    ore = 1000000000000\n",
    "    target_amount = ore // part1(reactions)\n",
    "    fuel = 0\n",
    "    surplus = defaultdict(int)\n",
    "    while ore and target_amount:\n",
    "        new_surplus = defaultdict(int, surplus)\n",
    "        ore_used = calc_ore(reactions, 'FUEL', target_amount, new_surplus)\n",
    "        if ore_used > ore:\n",
    "            target_amount //= 2\n",
    "        else:\n",
    "            fuel += target_amount\n",
    "            ore -= ore_used\n",
    "            surplus = new_surplus\n",
    "    return fuel"
   ]
  },
  {
   "cell_type": "code",
   "execution_count": 26,
   "metadata": {},
   "outputs": [
    {
     "data": {
      "text/plain": [
       "1639374"
      ]
     },
     "execution_count": 26,
     "metadata": {},
     "output_type": "execute_result"
    }
   ],
   "source": [
    "part2(rea)"
   ]
  },
  {
   "cell_type": "code",
   "execution_count": null,
   "metadata": {},
   "outputs": [],
   "source": []
  }
 ],
 "metadata": {
  "kernelspec": {
   "display_name": "Python 3",
   "language": "python",
   "name": "python3"
  },
  "language_info": {
   "codemirror_mode": {
    "name": "ipython",
    "version": 3
   },
   "file_extension": ".py",
   "mimetype": "text/x-python",
   "name": "python",
   "nbconvert_exporter": "python",
   "pygments_lexer": "ipython3",
   "version": "3.7.5"
  }
 },
 "nbformat": 4,
 "nbformat_minor": 4
}
