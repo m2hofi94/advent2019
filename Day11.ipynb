{
 "cells": [
  {
   "cell_type": "markdown",
   "metadata": {},
   "source": [
    "# Day 11\n",
    "## Part One"
   ]
  },
  {
   "cell_type": "code",
   "execution_count": 1,
   "metadata": {},
   "outputs": [],
   "source": [
    "import intcode\n",
    "from collections import defaultdict, namedtuple\n",
    "import matplotlib.pyplot as plt\n",
    "import numpy as np\n",
    "from IPython import display"
   ]
  },
  {
   "cell_type": "code",
   "execution_count": 2,
   "metadata": {},
   "outputs": [],
   "source": [
    "with open(\"input/11_1.txt\") as f:\n",
    "    program = f.read().strip()"
   ]
  },
  {
   "cell_type": "code",
   "execution_count": 3,
   "metadata": {},
   "outputs": [],
   "source": [
    "class P(namedtuple('P', ['x', 'y'])):\n",
    "    def __add__(self, other):\n",
    "        return P(self[0]+other[0],self[1]+other[1])"
   ]
  },
  {
   "cell_type": "code",
   "execution_count": 4,
   "metadata": {},
   "outputs": [],
   "source": [
    "dirs = [\n",
    "    P(0,-1),\n",
    "    P(-1,0),\n",
    "    P(0,1),\n",
    "    P(1,0)\n",
    "]\n",
    "def change_dir(cur_dir, turn):\n",
    "    d = 1 if turn == 0 else -1\n",
    "    return (cur_dir + d) % 4\n",
    "\n",
    "def draw(grid, mn=-70, mx=20):\n",
    "    arr = np.zeros((mx-mn,mx-mn))\n",
    "\n",
    "    for x,y in grid:\n",
    "        arr[x-mn,y-mn] = grid[(x,y)]\n",
    "\n",
    "    arr[pos[0]-mn,pos[1]-mn] = 2\n",
    "    plt.imshow(arr.transpose())"
   ]
  },
  {
   "cell_type": "code",
   "execution_count": 94,
   "metadata": {},
   "outputs": [],
   "source": [
    "def run(start):\n",
    "    grid = defaultdict(int)\n",
    "    pos = P(0,0)\n",
    "    grid[pos] = start\n",
    "    cur_dir = 0\n",
    "    robot = intcode.VM(program)\n",
    "\n",
    "    while True:\n",
    "        try:\n",
    "            robot.add_input(grid[pos])\n",
    "            color = robot.run()\n",
    "            turn = robot.run()\n",
    "            grid[pos] = color\n",
    "            cur_dir = change_dir(cur_dir, turn)\n",
    "            pos = pos + dirs[cur_dir]\n",
    "        except StopIteration:\n",
    "            if start == 0:\n",
    "                print(len(grid))\n",
    "            else:\n",
    "                paint(grid)\n",
    "            break"
   ]
  },
  {
   "cell_type": "code",
   "execution_count": 95,
   "metadata": {},
   "outputs": [
    {
     "name": "stdout",
     "output_type": "stream",
     "text": [
      "2319\n"
     ]
    }
   ],
   "source": [
    "run(0)"
   ]
  },
  {
   "cell_type": "code",
   "execution_count": 96,
   "metadata": {},
   "outputs": [
    {
     "name": "stdout",
     "output_type": "stream",
     "text": [
      " █  █ ████ ███  ███  ███  ████  ██    ██   \n",
      " █  █ █    █  █ █  █ █  █ █    █  █    █   \n",
      " █  █ ███  █  █ █  █ █  █ ███  █       █   \n",
      " █  █ █    ███  ███  ███  █    █ ██    █   \n",
      " █  █ █    █ █  █    █ █  █    █  █ █  █   \n",
      "  ██  ████ █  █ █    █  █ █     ███  ██    \n"
     ]
    }
   ],
   "source": [
    "run(1)"
   ]
  },
  {
   "cell_type": "code",
   "execution_count": 81,
   "metadata": {},
   "outputs": [],
   "source": [
    "def paint(grid, markers=None, highlight=None, sleep=None, dims=None):\n",
    "    import time\n",
    "    if markers is None:\n",
    "        markers = {0:\" \", 1: \"█\"}\n",
    "        \n",
    "    if dims is None:\n",
    "        x = [g[0] for g in grid.keys()]\n",
    "        y = [g[1] for g in grid.keys()]\n",
    "        min_x = min(x)\n",
    "        max_x = max(x)\n",
    "        min_y = min(y)\n",
    "        max_y = max(y)\n",
    "    else:\n",
    "        min_x,max_x,min_y,max_y = dims\n",
    "    \n",
    "    display.clear_output(wait=True)\n",
    "    for y in range(min_y, max_y+1):\n",
    "        line = \"\"\n",
    "        for x in range(min_x, max_x+1):\n",
    "            if (x,y) == highlight:\n",
    "                line += \"0\"\n",
    "            line += markers[grid[(x,y)]]\n",
    "        print(line)\n",
    "    if sleep:\n",
    "        time.sleep(sleep)\n",
    "        \n",
    "    return min_x, max_x, min_y, max_y"
   ]
  },
  {
   "cell_type": "code",
   "execution_count": 82,
   "metadata": {},
   "outputs": [
    {
     "name": "stdout",
     "output_type": "stream",
     "text": [
      " █  █ ████ ███  ███  ███  ████  ██    ██   \n",
      " █  █ █    █  █ █  █ █  █ █    █  █    █   \n",
      " █  █ ███  █  █ █  █ █  █ ███  █       █   \n",
      " █  █ █    ███  ███  ███  █    █ ██    █   \n",
      " █  █ █    █ █  █    █ █  █    █  █ █  █   \n",
      "  ██  ████ █  █ █    █  █ █     ███  ██    \n"
     ]
    },
    {
     "data": {
      "text/plain": [
       "(0, 42, 0, 5)"
      ]
     },
     "execution_count": 82,
     "metadata": {},
     "output_type": "execute_result"
    }
   ],
   "source": [
    "paint(grid)"
   ]
  },
  {
   "cell_type": "code",
   "execution_count": null,
   "metadata": {},
   "outputs": [],
   "source": []
  }
 ],
 "metadata": {
  "kernelspec": {
   "display_name": "Python 3",
   "language": "python",
   "name": "python3"
  },
  "language_info": {
   "codemirror_mode": {
    "name": "ipython",
    "version": 3
   },
   "file_extension": ".py",
   "mimetype": "text/x-python",
   "name": "python",
   "nbconvert_exporter": "python",
   "pygments_lexer": "ipython3",
   "version": "3.7.5"
  }
 },
 "nbformat": 4,
 "nbformat_minor": 4
}
