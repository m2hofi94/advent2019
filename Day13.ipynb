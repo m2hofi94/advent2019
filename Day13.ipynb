{
 "cells": [
  {
   "cell_type": "code",
   "execution_count": 1,
   "metadata": {},
   "outputs": [],
   "source": [
    "%run util.ipynb"
   ]
  },
  {
   "cell_type": "code",
   "execution_count": 2,
   "metadata": {},
   "outputs": [],
   "source": [
    "import intcode"
   ]
  },
  {
   "cell_type": "code",
   "execution_count": 3,
   "metadata": {},
   "outputs": [],
   "source": [
    "prog = get_puzzle(13)"
   ]
  },
  {
   "cell_type": "code",
   "execution_count": 4,
   "metadata": {},
   "outputs": [],
   "source": [
    "arcade = intcode.VM(prog, [])"
   ]
  },
  {
   "cell_type": "code",
   "execution_count": 5,
   "metadata": {},
   "outputs": [
    {
     "ename": "StopIteration",
     "evalue": "",
     "output_type": "error",
     "traceback": [
      "\u001b[0;31m---------------------------------------------------------------------------\u001b[0m",
      "\u001b[0;31mStopIteration\u001b[0m                             Traceback (most recent call last)",
      "\u001b[0;32m<ipython-input-5-86790a149719>\u001b[0m in \u001b[0;36m<module>\u001b[0;34m\u001b[0m\n\u001b[1;32m      1\u001b[0m \u001b[0mres\u001b[0m \u001b[0;34m=\u001b[0m \u001b[0;34m[\u001b[0m\u001b[0;34m]\u001b[0m\u001b[0;34m\u001b[0m\u001b[0;34m\u001b[0m\u001b[0m\n\u001b[1;32m      2\u001b[0m \u001b[0;32mwhile\u001b[0m \u001b[0;32mTrue\u001b[0m\u001b[0;34m:\u001b[0m\u001b[0;34m\u001b[0m\u001b[0;34m\u001b[0m\u001b[0m\n\u001b[0;32m----> 3\u001b[0;31m     \u001b[0mres\u001b[0m\u001b[0;34m.\u001b[0m\u001b[0mappend\u001b[0m\u001b[0;34m(\u001b[0m\u001b[0marcade\u001b[0m\u001b[0;34m.\u001b[0m\u001b[0mrun\u001b[0m\u001b[0;34m(\u001b[0m\u001b[0;34m)\u001b[0m\u001b[0;34m)\u001b[0m\u001b[0;34m\u001b[0m\u001b[0;34m\u001b[0m\u001b[0m\n\u001b[0m",
      "\u001b[0;32m~/dev/advent2019/intcode.py\u001b[0m in \u001b[0;36mrun\u001b[0;34m(self)\u001b[0m\n\u001b[1;32m     28\u001b[0m         \u001b[0;32mif\u001b[0m \u001b[0mself\u001b[0m\u001b[0;34m.\u001b[0m\u001b[0miter\u001b[0m \u001b[0;32mis\u001b[0m \u001b[0;32mNone\u001b[0m\u001b[0;34m:\u001b[0m\u001b[0;34m\u001b[0m\u001b[0;34m\u001b[0m\u001b[0m\n\u001b[1;32m     29\u001b[0m             \u001b[0mself\u001b[0m\u001b[0;34m.\u001b[0m\u001b[0miter\u001b[0m \u001b[0;34m=\u001b[0m \u001b[0mself\u001b[0m\u001b[0;34m.\u001b[0m\u001b[0m_run\u001b[0m\u001b[0;34m(\u001b[0m\u001b[0;34m)\u001b[0m\u001b[0;34m\u001b[0m\u001b[0;34m\u001b[0m\u001b[0m\n\u001b[0;32m---> 30\u001b[0;31m         \u001b[0;32mreturn\u001b[0m \u001b[0mnext\u001b[0m\u001b[0;34m(\u001b[0m\u001b[0mself\u001b[0m\u001b[0;34m.\u001b[0m\u001b[0miter\u001b[0m\u001b[0;34m)\u001b[0m\u001b[0;34m\u001b[0m\u001b[0;34m\u001b[0m\u001b[0m\n\u001b[0m\u001b[1;32m     31\u001b[0m \u001b[0;34m\u001b[0m\u001b[0m\n\u001b[1;32m     32\u001b[0m     \u001b[0;32mdef\u001b[0m \u001b[0m_run\u001b[0m\u001b[0;34m(\u001b[0m\u001b[0mself\u001b[0m\u001b[0;34m)\u001b[0m\u001b[0;34m:\u001b[0m\u001b[0;34m\u001b[0m\u001b[0;34m\u001b[0m\u001b[0m\n",
      "\u001b[0;31mStopIteration\u001b[0m: "
     ]
    }
   ],
   "source": [
    "res = []\n",
    "while True:\n",
    "    res.append(arcade.run())"
   ]
  },
  {
   "cell_type": "code",
   "execution_count": 6,
   "metadata": {},
   "outputs": [],
   "source": [
    "outputs = []\n",
    "for i in range(0,len(res),3):\n",
    "    outputs.append((res[i],res[i+1],res[i+2]))"
   ]
  },
  {
   "cell_type": "code",
   "execution_count": 7,
   "metadata": {},
   "outputs": [],
   "source": [
    "grid = defaultdict(int)"
   ]
  },
  {
   "cell_type": "code",
   "execution_count": 8,
   "metadata": {},
   "outputs": [
    {
     "name": "stdout",
     "output_type": "stream",
     "text": [
      "████████████████████████████████████████\n",
      "█                                      █\n",
      "█ XXX XXXX XXX X XX   XX X XXX XXXX X  █\n",
      "█ XXX XXXXXXXX XX  XX X XXXXX XXXXXXXX █\n",
      "█ XXX  XX XX XX   X  XXX X  X X  XXXXX █\n",
      "█ XXXXXXXXXXX XX   X   XXXXX XXXXXX XX █\n",
      "█   XX XX XXXXXXXX XX X XXXXXXXXXXX    █\n",
      "█ XXXXXXX  XXXXX X XXXX XXX XX XX   XX █\n",
      "█ XXX  XX  X XX XXXXXXXXXX  X XXX  XXX █\n",
      "█  X  X  XXXX XX XXXXX  X  X  XXXXXX X █\n",
      "█ X X XXXXXXXX  XXX X XXXXXX XXXXXXXXX █\n",
      "█ XXXXX  XX XXXXXXX XXXXXXXXX  XXXXXX  █\n",
      "█ X XXXXX     X   XX  XXXX XXX XX X XX █\n",
      "█  X XXXXX X X  X X XX X XXXX X XX  XX █\n",
      "█  XXX X XX XXX X       XXX XXXXX  XX  █\n",
      "█ XX XXXX X XXX   X  XXXXX X XXX X  XX █\n",
      "█ XXXXXXX XX XXX XXX   X   XXXXXX X XX █\n",
      "█  XXXX XXXXX XXXXXXXXXXXX X  XXXX XXX █\n",
      "█                                      █\n",
      "█                 o                    █\n",
      "█                                      █\n",
      "█                                      █\n",
      "█                   _                  █\n",
      "█                                      █\n"
     ]
    }
   ],
   "source": [
    "for o in outputs:\n",
    "    grid[(o[0],o[1])] = o[2]\n",
    "    paint(grid, markers = {0: ' ', 1: '█', 2:'X', 3: '_', 4:'o'})"
   ]
  },
  {
   "cell_type": "code",
   "execution_count": 9,
   "metadata": {},
   "outputs": [
    {
     "data": {
      "text/plain": [
       "398"
      ]
     },
     "execution_count": 9,
     "metadata": {},
     "output_type": "execute_result"
    }
   ],
   "source": [
    "list(grid.values()).count(2)"
   ]
  },
  {
   "cell_type": "code",
   "execution_count": 15,
   "metadata": {},
   "outputs": [],
   "source": [
    "markers = {0: ' ', 1: '█', 2:'X', 3: '~', 4:'o'}"
   ]
  },
  {
   "cell_type": "code",
   "execution_count": 16,
   "metadata": {},
   "outputs": [],
   "source": [
    "prog = '2'+prog[1:]"
   ]
  },
  {
   "cell_type": "code",
   "execution_count": 17,
   "metadata": {},
   "outputs": [],
   "source": [
    "def run(arcade, grid, score):\n",
    "    x = arcade.run()\n",
    "    y = arcade.run()\n",
    "    t = arcade.run()\n",
    "    if x==-1 and y==0:\n",
    "        score = t\n",
    "    else:\n",
    "        grid[(x,y)] = t\n",
    "        \n",
    "    return score, (x,y,t)\n",
    "\n",
    "def draw(grid, score):\n",
    "    paint(grid, markers=markers)\n",
    "    print(\"\\nScore:\", score)"
   ]
  },
  {
   "cell_type": "code",
   "execution_count": 18,
   "metadata": {},
   "outputs": [
    {
     "name": "stdout",
     "output_type": "stream",
     "text": [
      "████████████████████████████████████████\n",
      "█                                      █\n",
      "█ XXX XXXX XXX X XX   XX X XXX XXXX X  █\n",
      "█ XXX XXXXXXXX XX  XX X XXXXX XXXXXXXX █\n",
      "█ XXX  XX XX XX   X  XXX X  X X  XXXXX █\n",
      "█ XXXXXXXXXXX XX   X   XXXXX XXXXXX XX █\n",
      "█   XX XX XXXXXXXX XX X XXXXXXXXXXX    █\n",
      "█ XXXXXXX  XXXXX X XXXX XXX XX XX   XX █\n",
      "█ XXX  XX  X XX XXXXXXXXXX  X XXX  XXX █\n",
      "█  X  X  XXXX XX XXXXX  X  X  XXXXXX X █\n",
      "█ X X XXXXXXXX  XXX X XXXXXX XXXXXXXXX █\n",
      "█ XXXXX  XX XXXXXXX XXXXXXXXX  XXXXXX  █\n",
      "█ X XXXXX     X   XX  XXXX XXX XX X XX █\n",
      "█  X XXXXX X X  X X XX X XXXX X XX  XX █\n",
      "█  XXX X XX XXX X       XXX XXXXX  XX  █\n",
      "█ XX XXXX X XXX   X  XXXXX X XXX X  XX █\n",
      "█ XXXXXXX XX XXX XXX   X   XXXXXX X XX █\n",
      "█  XXXX XXXXX XXXXXXXXXXXX X  XXXX XXX █\n",
      "█                                      █\n",
      "█                 o                    █\n",
      "█                                      █\n",
      "█                                      █\n",
      "█                   ~                  █\n",
      "█                                      █\n",
      "\n",
      "Score: 0\n"
     ]
    }
   ],
   "source": [
    "arcade = intcode.VM(prog)\n",
    "grid = defaultdict(int)\n",
    "score = 0\n",
    "x = 0\n",
    "for i in range(961):\n",
    "    score,drawn = run(arcade, grid, score)\n",
    "    if drawn[2] == 3:\n",
    "        x = drawn[0]\n",
    "    \n",
    "draw(grid, score)"
   ]
  },
  {
   "cell_type": "code",
   "execution_count": 19,
   "metadata": {},
   "outputs": [],
   "source": [
    "arcade.provide_input(0)"
   ]
  },
  {
   "cell_type": "code",
   "execution_count": 20,
   "metadata": {},
   "outputs": [
    {
     "name": "stdout",
     "output_type": "stream",
     "text": [
      "████████████████████████████████████████\n",
      "█                                      █\n",
      "█                                      █\n",
      "█       o                              █\n",
      "█                                      █\n",
      "█                                      █\n",
      "█                                      █\n",
      "█                                      █\n",
      "█                                      █\n",
      "█                                      █\n",
      "█                                      █\n",
      "█                                      █\n",
      "█                                      █\n",
      "█                                      █\n",
      "█                                      █\n",
      "█                                      █\n",
      "█                                      █\n",
      "█                                      █\n",
      "█                                      █\n",
      "█                                      █\n",
      "█                                      █\n",
      "█                                      █\n",
      "█       ~                              █\n",
      "█                                      █\n",
      "\n",
      "Score: 19447\n"
     ]
    }
   ],
   "source": [
    "while True:\n",
    "    try:\n",
    "        score,pos = run(arcade, grid, score)\n",
    "        if pos[2] == 4:\n",
    "            arcade.provide_input(np.sign(pos[0]-x))\n",
    "        elif pos[2] == 3:\n",
    "            x = pos[0]\n",
    "    except:\n",
    "        break\n",
    "    draw(grid, score)\n",
    "    "
   ]
  },
  {
   "cell_type": "code",
   "execution_count": 14,
   "metadata": {},
   "outputs": [
    {
     "name": "stdout",
     "output_type": "stream",
     "text": [
      "████████████████████████████████████████\n",
      "█                                      █\n",
      "█ XXX XXXX XXX X XX   XX X XXX XXXX X  █\n",
      "█ XXX XXXXXXXX XX  XX X XXXXX XXXXXXXX █\n",
      "█ XXX  XX XX XX   X  XXX X  X X  XXXXX █\n",
      "█ XXXXXXXXXXX XX   X   XXXXX XXXXXX XX █\n",
      "█   XX XX XXXXXXXX XX X XXXXXXXXXXX    █\n",
      "█ XXXXXXX  XXXXX X XXXX XXX XX XX   XX █\n",
      "█ XXX  XX  X XX XXXXXXXXXX  X XXX  XXX █\n",
      "█  X  X  XXXX XX XXXXX  X  X  XXXXXX X █\n",
      "█ X X XXXXXXXX  XXX X XXXXXX XXXXXXXXX █\n",
      "█ XXXXX  XX XXXXXXX XXXXXXXXX  XXXXXX  █\n",
      "█ X XXXXX     X   XX  XXXX XXX XX X XX █\n",
      "█  X XXXXX X X  X X XX X XXXX X XX  XX █\n",
      "█  XXX X XX XXX X       XXX XXXXX  XX  █\n",
      "█ XX XXXX X XXX   X  XXXXX X XXX X  XX █\n",
      "█ XXXXXXX XX XXX XXX   X   XXXXXX X XX █\n",
      "█  XXXX XXXXX XXXXXXXXXXXX X  XXXX XXX █\n",
      "█                                      █\n",
      "█                 o                    █\n",
      "█                                      █\n",
      "█                                      █\n",
      "█                   ~                  █\n",
      "█                                      █\n",
      "\n",
      "Score: 0\n"
     ]
    }
   ],
   "source": [
    "draw(grid, score)"
   ]
  },
  {
   "cell_type": "code",
   "execution_count": null,
   "metadata": {},
   "outputs": [],
   "source": []
  }
 ],
 "metadata": {
  "kernelspec": {
   "display_name": "Python 3",
   "language": "python",
   "name": "python3"
  },
  "language_info": {
   "codemirror_mode": {
    "name": "ipython",
    "version": 3
   },
   "file_extension": ".py",
   "mimetype": "text/x-python",
   "name": "python",
   "nbconvert_exporter": "python",
   "pygments_lexer": "ipython3",
   "version": "3.7.5"
  }
 },
 "nbformat": 4,
 "nbformat_minor": 4
}
