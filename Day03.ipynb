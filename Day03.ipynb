{
 "cells": [
  {
   "cell_type": "markdown",
   "metadata": {},
   "source": [
    "# Day 3: Crossed Wires\n",
    "## Part One\n",
    "The gravity assist was successful, and you're well on your way to the Venus refuelling station. During the rush back on Earth, the fuel management system wasn't completely installed, so that's next on the priority list.\n",
    "\n",
    "Opening the front panel reveals a jumble of wires. Specifically, two wires are connected to a central port and extend outward on a grid. You trace the path each wire takes as it leaves the central port, one wire per line of text (your puzzle input).\n",
    "\n",
    "The wires twist and turn, but the two wires occasionally cross paths. To fix the circuit, you need to find the intersection point closest to the central port. Because the wires are on a grid, use the Manhattan distance for this measurement. While the wires do technically cross right at the central port where they both start, this point does not count, nor does a wire count as crossing with itself.\n",
    "\n",
    "For example, if the first wire's path is `R8,U5,L5,D3`, then starting from the central port (o), it goes right 8, up 5, left 5, and finally down 3:\n",
    "```\n",
    "...........\n",
    "...........\n",
    "...........\n",
    "....+----+.\n",
    "....|....|.\n",
    "....|....|.\n",
    "....|....|.\n",
    ".........|.\n",
    ".o-------+.\n",
    "...........\n",
    "```\n",
    "Then, if the second wire's path is `U7,R6,D4,L4`, it goes up 7, right 6, down 4, and left 4:\n",
    "```\n",
    "...........\n",
    ".+-----+...\n",
    ".|.....|...\n",
    ".|..+--X-+.\n",
    ".|..|..|.|.\n",
    ".|.-X--+.|.\n",
    ".|..|....|.\n",
    ".|.......|.\n",
    ".o-------+.\n",
    "...........\n",
    "```\n",
    "These wires cross at two locations (marked X), but the lower-left one is closer to the central port: its distance is 3 + 3 = 6.\n",
    "\n",
    "Here are a few more examples:\n",
    "\n",
    "- `R75,D30,R83,U83,L12,D49,R71,U7,L72` - `U62,R66,U55,R34,D71,R55,D58,R83` = distance 159\n",
    "- `R98,U47,R26,D63,R33,U87,L62,D20,R33,U53,R51` - `U98,R91,D20,R16,D67,R40,U7,R15,U6,R7` = distance 135\n",
    "\n",
    "**What is the Manhattan distance** from the central port to the closest intersection?"
   ]
  },
  {
   "cell_type": "code",
   "execution_count": 1,
   "metadata": {},
   "outputs": [],
   "source": [
    "import numpy as np"
   ]
  },
  {
   "cell_type": "code",
   "execution_count": 2,
   "metadata": {},
   "outputs": [],
   "source": [
    "test_1 = \"R8,U5,L5,D3\\nU7,R6,D4,L4\"\n",
    "test_2 = \"R75,D30,R83,U83,L12,D49,R71,U7,L72\\nU62,R66,U55,R34,D71,R55,D58,R83\"\n",
    "test_3 = \"R98,U47,R26,D63,R33,U87,L62,D20,R33,U53,R51\\nU98,R91,D20,R16,D67,R40,U7,R15,U6,R7\""
   ]
  },
  {
   "cell_type": "code",
   "execution_count": 3,
   "metadata": {},
   "outputs": [],
   "source": [
    "dirs = {\n",
    "    'R': np.array([1,0]),\n",
    "    'L': np.array([-1,0]),\n",
    "    'U': np.array([0,1]),\n",
    "    'D': np.array([0,-1])\n",
    "}"
   ]
  },
  {
   "cell_type": "code",
   "execution_count": 4,
   "metadata": {},
   "outputs": [],
   "source": [
    "def step(instruction, cur_pos):\n",
    "    fields = []\n",
    "    count = int(instruction[1:])\n",
    "    for _ in range(count):\n",
    "        cur_pos = cur_pos + dirs[instruction[0]]\n",
    "        fields.append(cur_pos)\n",
    "    return cur_pos, fields"
   ]
  },
  {
   "cell_type": "code",
   "execution_count": 5,
   "metadata": {},
   "outputs": [],
   "source": [
    "def get_points(paths):\n",
    "    points = set()\n",
    "    pos = np.array([0,0])\n",
    "    for direction in paths:\n",
    "        pos, fields = step(direction, pos)\n",
    "        [points.add(f.tostring()) for f in fields]\n",
    "    return points"
   ]
  },
  {
   "cell_type": "code",
   "execution_count": 6,
   "metadata": {},
   "outputs": [],
   "source": [
    "def task_one(paths):\n",
    "    p1,p2 = [p.split(',') for p in paths.split('\\n')]\n",
    "    candidates = get_points(p1).intersection(get_points(p2))\n",
    "    \n",
    "    closest = float(\"inf\")\n",
    "    for intersection in candidates:\n",
    "        pos = np.frombuffer(intersection, dtype=int)\n",
    "        dist = sum(np.abs(pos))\n",
    "        if dist < closest:\n",
    "            closest = dist\n",
    "    return closest"
   ]
  },
  {
   "cell_type": "code",
   "execution_count": 7,
   "metadata": {},
   "outputs": [
    {
     "name": "stdout",
     "output_type": "stream",
     "text": [
      "6\n",
      "159\n",
      "135\n"
     ]
    }
   ],
   "source": [
    "print(task_one(test_1))\n",
    "print(task_one(test_2))\n",
    "print(task_one(test_3))"
   ]
  },
  {
   "cell_type": "code",
   "execution_count": 8,
   "metadata": {},
   "outputs": [],
   "source": [
    "with open(\"input/3_1.txt\", 'r') as f:\n",
    "    input_1 = f.read().strip()"
   ]
  },
  {
   "cell_type": "code",
   "execution_count": 9,
   "metadata": {},
   "outputs": [
    {
     "data": {
      "text/plain": [
       "2129"
      ]
     },
     "execution_count": 9,
     "metadata": {},
     "output_type": "execute_result"
    }
   ],
   "source": [
    "task_one(input_1)"
   ]
  },
  {
   "cell_type": "markdown",
   "metadata": {},
   "source": [
    "## Part Two\n",
    "It turns out that this circuit is very timing-sensitive; you actually need to minimize the signal delay.\n",
    "\n",
    "To do this, calculate the number of steps each wire takes to reach each intersection; choose the intersection where the sum of both wires' steps is lowest. If a wire visits a position on the grid multiple times, use the steps value from the first time it visits that position when calculating the total value of a specific intersection.\n",
    "\n",
    "The number of steps a wire takes is the total number of grid squares the wire has entered to get to that location, including the intersection being considered. Again consider the example from above:\n",
    "```\n",
    "...........\n",
    ".+-----+...\n",
    ".|.....|...\n",
    ".|..+--X-+.\n",
    ".|..|..|.|.\n",
    ".|.-X--+.|.\n",
    ".|..|....|.\n",
    ".|.......|.\n",
    ".o-------+.\n",
    "...........\n",
    "```\n",
    "In the above example, the intersection closest to the central port is reached after 8+5+5+2 = 20 steps by the first wire and 7+6+4+3 = 20 steps by the second wire for a total of 20+20 = 40 steps.\n",
    "\n",
    "However, the top-right intersection is better: the first wire takes only 8+5+2 = 15 and the second wire takes only 7+6+2 = 15, a total of 15+15 = 30 steps.\n",
    "\n",
    "Here are the best steps for the extra examples from above:\n",
    "\n",
    "```\n",
    "R75,D30,R83,U83,L12,D49,R71,U7,L72\n",
    "U62,R66,U55,R34,D71,R55,D58,R83\n",
    "```\n",
    "= 610 steps\n",
    "\n",
    "```\n",
    "R98,U47,R26,D63,R33,U87,L62,D20,R33,U53,R51\n",
    "U98,R91,D20,R16,D67,R40,U7,R15,U6,R7\n",
    "```\n",
    "= 410 steps\n",
    "\n",
    "What is the fewest combined steps the wires must take to reach an intersection?"
   ]
  },
  {
   "cell_type": "code",
   "execution_count": 10,
   "metadata": {},
   "outputs": [],
   "source": [
    "def steps_to(target, directions):\n",
    "    pos = np.array([0,0])\n",
    "    steps = 0\n",
    "    for direction in directions:\n",
    "        pos, fields = step(direction, pos)\n",
    "        try:\n",
    "            steps += [sum(np.equal(target, field))==2 for field in fields].index(True) + 1\n",
    "            break\n",
    "        except:\n",
    "            steps += len(fields)\n",
    "    return steps"
   ]
  },
  {
   "cell_type": "code",
   "execution_count": 11,
   "metadata": {},
   "outputs": [],
   "source": [
    "def task_two(paths):\n",
    "    p1,p2 = [p.split(',') for p in paths.split('\\n')]\n",
    "    candidates = get_points(p1).intersection(get_points(p2))\n",
    "\n",
    "    closest = float(\"inf\")\n",
    "    for intersection in candidates:\n",
    "        target = np.frombuffer(intersection, dtype=int)\n",
    "        total = steps_to(target, p1) + steps_to(target, p2)\n",
    "        if total < closest:\n",
    "            closest = total\n",
    "    return closest"
   ]
  },
  {
   "cell_type": "code",
   "execution_count": 12,
   "metadata": {},
   "outputs": [
    {
     "name": "stdout",
     "output_type": "stream",
     "text": [
      "30\n",
      "610\n",
      "410\n"
     ]
    }
   ],
   "source": [
    "print(task_two(test_1))\n",
    "print(task_two(test_2))\n",
    "print(task_two(test_3))"
   ]
  },
  {
   "cell_type": "code",
   "execution_count": 13,
   "metadata": {},
   "outputs": [
    {
     "name": "stdout",
     "output_type": "stream",
     "text": [
      "CPU times: user 18.7 s, sys: 11.3 ms, total: 18.7 s\n",
      "Wall time: 18.7 s\n"
     ]
    },
    {
     "data": {
      "text/plain": [
       "134662"
      ]
     },
     "execution_count": 13,
     "metadata": {},
     "output_type": "execute_result"
    }
   ],
   "source": [
    "%%time\n",
    "task_two(input_1)"
   ]
  },
  {
   "cell_type": "code",
   "execution_count": 14,
   "metadata": {},
   "outputs": [],
   "source": [
    "def get_all_steps(path):\n",
    "    all_steps = []\n",
    "    pos = np.array([0,0])\n",
    "    for direction in path:\n",
    "        pos, fields = step(direction, pos)\n",
    "        all_steps.extend(fields)\n",
    "    return all_steps\n",
    "    "
   ]
  },
  {
   "cell_type": "code",
   "execution_count": 15,
   "metadata": {},
   "outputs": [],
   "source": [
    "def num_steps(all_steps, target):\n",
    "    return [np.array_equal(target, field) for field in all_steps].index(True) + 1"
   ]
  },
  {
   "cell_type": "code",
   "execution_count": 16,
   "metadata": {},
   "outputs": [],
   "source": [
    "def task_two_fast(paths):\n",
    "    p1,p2 = [p.split(',') for p in paths.split('\\n')]\n",
    "    candidates = get_points(p1).intersection(get_points(p2))\n",
    "\n",
    "    steps_1 = get_all_steps(p1)\n",
    "    steps_2 = get_all_steps(p2)\n",
    "    closest = float(\"inf\")\n",
    "    \n",
    "    for intersection in candidates:\n",
    "        target = np.frombuffer(intersection, dtype=int)\n",
    "        total = num_steps(steps_1, target) + num_steps(steps_2, target)\n",
    "        if total < closest:\n",
    "            closest = total\n",
    "    return closest"
   ]
  },
  {
   "cell_type": "code",
   "execution_count": 17,
   "metadata": {},
   "outputs": [
    {
     "name": "stdout",
     "output_type": "stream",
     "text": [
      "CPU times: user 20.4 s, sys: 35.7 ms, total: 20.4 s\n",
      "Wall time: 20.4 s\n"
     ]
    },
    {
     "data": {
      "text/plain": [
       "134662"
      ]
     },
     "execution_count": 17,
     "metadata": {},
     "output_type": "execute_result"
    }
   ],
   "source": [
    "%%time\n",
    "task_two_fast(input_1)"
   ]
  },
  {
   "cell_type": "code",
   "execution_count": 18,
   "metadata": {},
   "outputs": [],
   "source": [
    "paths = input_1\n",
    "p1,p2 = [p.split(',') for p in paths.split('\\n')]\n",
    "candidates = get_points(p1).intersection(get_points(p2))\n",
    "\n",
    "steps_1 = get_all_steps(p1)\n",
    "steps_2 = get_all_steps(p2)"
   ]
  },
  {
   "cell_type": "code",
   "execution_count": 19,
   "metadata": {},
   "outputs": [
    {
     "data": {
      "text/plain": [
       "134662"
      ]
     },
     "execution_count": 19,
     "metadata": {},
     "output_type": "execute_result"
    }
   ],
   "source": [
    "closest = float(\"inf\")\n",
    "\n",
    "for intersection in candidates:\n",
    "    target = np.frombuffer(intersection, dtype=int)\n",
    "    total = num_steps(steps_1, target) + num_steps(steps_2, target)\n",
    "    if total < closest:\n",
    "        closest = total\n",
    "closest"
   ]
  },
  {
   "cell_type": "code",
   "execution_count": 21,
   "metadata": {},
   "outputs": [
    {
     "name": "stdout",
     "output_type": "stream",
     "text": [
      "134662\n"
     ]
    }
   ],
   "source": [
    "with open(\"input/3_1.txt\", \"r\") as file:\n",
    "\tdef crawl_wire():\n",
    "\t\tloc = [0, 0]\n",
    "\t\tsteps = 0\n",
    "\n",
    "\t\tfor move in file.readline().split(\",\"):\n",
    "\t\t\tdelta = {\"L\": (0, -1), \"R\": (0, 1), \"U\": (1, 1), \"D\": (1, -1)}[move[0]]\n",
    "\n",
    "\t\t\tfor _ in range(int(move[1:])):\n",
    "\t\t\t\tloc[delta[0]] += delta[1]\n",
    "\t\t\t\tsteps += 1\n",
    "\n",
    "\t\t\t\tyield tuple(loc), steps\n",
    "\n",
    "\tvisited = {}\n",
    "\n",
    "\tfor loc, steps in crawl_wire():\n",
    "\t\tif loc not in visited:\n",
    "\t\t\tvisited[loc] = steps\n",
    "\n",
    "\tprint(min(steps + visited[loc] for loc, steps in crawl_wire() if loc in visited))"
   ]
  },
  {
   "cell_type": "code",
   "execution_count": null,
   "metadata": {},
   "outputs": [],
   "source": []
  }
 ],
 "metadata": {
  "kernelspec": {
   "display_name": "Python 3",
   "language": "python",
   "name": "python3"
  },
  "language_info": {
   "codemirror_mode": {
    "name": "ipython",
    "version": 3
   },
   "file_extension": ".py",
   "mimetype": "text/x-python",
   "name": "python",
   "nbconvert_exporter": "python",
   "pygments_lexer": "ipython3",
   "version": "3.7.5"
  }
 },
 "nbformat": 4,
 "nbformat_minor": 4
}
