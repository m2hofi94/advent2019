{
 "cells": [
  {
   "cell_type": "markdown",
   "metadata": {},
   "source": [
    "# Part 1"
   ]
  },
  {
   "cell_type": "code",
   "execution_count": 1,
   "metadata": {},
   "outputs": [],
   "source": [
    "%run util.ipynb\n",
    "import itertools"
   ]
  },
  {
   "cell_type": "code",
   "execution_count": 2,
   "metadata": {},
   "outputs": [],
   "source": [
    "class P(namedtuple('P', ('x', 'y', 'z'))):\n",
    "    def __add__(self, o):\n",
    "        return P(self.x + o[0], self.y+o[1], self.z+o[2])\n",
    "    def __sub__(self, o):\n",
    "        return P(self.x - o[0], self.y-o[1], self.z-o[2])\n",
    "    def __mul__(self, o):\n",
    "        return P(self.x * o, self.y * o, self.z*o)\n",
    "    def __truediv__(self, o):\n",
    "        if isinstance(o, tuple):\n",
    "            return P(self.x / o[0], self.y/o[1], self.z/o[2])\n",
    "        else:\n",
    "            return P(self.x / o, self.y / o, self.z/o)\n",
    "    def __abs__(self):\n",
    "        return P(abs(self.x), abs(self.y), abs(self.z))\n",
    "    def __neg__(self):\n",
    "        return P(-self.x, -self.y, -self.z)\n",
    "    \n",
    "    def direction(self):\n",
    "        res = []\n",
    "        for d in range(3):\n",
    "            if self[d] != 0:\n",
    "                res.append(self[d] // abs(self[d]))\n",
    "            else:\n",
    "                res.append(0)\n",
    "        return P(*res)"
   ]
  },
  {
   "cell_type": "code",
   "execution_count": 3,
   "metadata": {},
   "outputs": [],
   "source": [
    "def gravity(moon1, vel1, moon2, vel2):\n",
    "    dif = (moon2 - moon1).direction()\n",
    "    return vel1 + dif, vel2 - dif\n",
    "\n",
    "def energy(pos, vel):\n",
    "    return sum(sum(abs(pos[moon])) * sum(abs(vel[moon])) for moon in pos)"
   ]
  },
  {
   "cell_type": "code",
   "execution_count": 4,
   "metadata": {},
   "outputs": [],
   "source": [
    "#test:\n",
    "pos = {\n",
    "    \"io\": P(-1, 0, 2),\n",
    "    \"europa\": P(2, -10, -7),\n",
    "    \"ganymede\": P(4, -8, 8),\n",
    "    \"callisto\": P(3, 5, -1)\n",
    "}\n",
    "vel = {\n",
    "    \"io\": P(0,0,0),\n",
    "    \"europa\": P(0,0,0),\n",
    "    \"ganymede\": P(0,0,0),\n",
    "    \"callisto\": P(0,0,0)\n",
    "}"
   ]
  },
  {
   "cell_type": "code",
   "execution_count": 5,
   "metadata": {},
   "outputs": [
    {
     "data": {
      "text/plain": [
       "179"
      ]
     },
     "execution_count": 5,
     "metadata": {},
     "output_type": "execute_result"
    }
   ],
   "source": [
    "for i in range(10):\n",
    "    for a,b in itertools.combinations(pos.keys(), 2):\n",
    "        vel[a], vel[b] = gravity(pos[a], vel[a], pos[b], vel[b])\n",
    "\n",
    "    for moon in pos.keys():\n",
    "        pos[moon] = pos[moon] + vel[moon]\n",
    "\n",
    "energy(pos, vel)"
   ]
  },
  {
   "cell_type": "code",
   "execution_count": 6,
   "metadata": {},
   "outputs": [
    {
     "data": {
      "text/plain": [
       "10635"
      ]
     },
     "execution_count": 6,
     "metadata": {},
     "output_type": "execute_result"
    }
   ],
   "source": [
    "pos = {\n",
    "    \"io\": P(1,4,4),\n",
    "    \"europa\": P(-4,-1,19),\n",
    "    \"ganymede\": P(-15,-14,12),\n",
    "    \"callisto\": P(-17,1,10)\n",
    "}\n",
    "vel = {\n",
    "    \"io\": P(0,0,0),\n",
    "    \"europa\": P(0,0,0),\n",
    "    \"ganymede\": P(0,0,0),\n",
    "    \"callisto\": P(0,0,0)\n",
    "}\n",
    "for i in range(1000):\n",
    "    for a,b in itertools.combinations(pos.keys(), 2):\n",
    "        vel[a], vel[b] = gravity(pos[a], vel[a], pos[b], vel[b])\n",
    "\n",
    "    for moon in pos.keys():\n",
    "        pos[moon] = pos[moon] + vel[moon]\n",
    "\n",
    "energy(pos, vel)"
   ]
  },
  {
   "cell_type": "markdown",
   "metadata": {},
   "source": [
    "# Part 2"
   ]
  },
  {
   "cell_type": "code",
   "execution_count": 64,
   "metadata": {},
   "outputs": [],
   "source": [
    "combs = list(itertools.combinations(range(len(pos)), 2))\n",
    "moons = list(range(4))"
   ]
  },
  {
   "cell_type": "code",
   "execution_count": 95,
   "metadata": {},
   "outputs": [],
   "source": [
    "import math\n",
    "def lcm(a, b):\n",
    "    return int(a * b / math.gcd(a, b))\n",
    "\n",
    "def repeat_axis(pos):\n",
    "    vel = np.zeros(4, dtype=int)\n",
    "    zero = vel.copy()\n",
    "    start_pos = pos.copy()\n",
    "    \n",
    "    i = 1\n",
    "    while True:\n",
    "        for a,b in combs:\n",
    "            sign = np.sign(pos[b] - pos[a])\n",
    "            vel[a] += sign\n",
    "            vel[b] -= sign\n",
    "        pos += vel\n",
    "        \n",
    "        if np.array_equal(vel, zero) and np.array_equal(pos, start_pos):\n",
    "            break\n",
    "        i+=1\n",
    "        \n",
    "    return i"
   ]
  },
  {
   "cell_type": "code",
   "execution_count": 96,
   "metadata": {},
   "outputs": [
    {
     "data": {
      "text/plain": [
       "2772"
      ]
     },
     "execution_count": 96,
     "metadata": {},
     "output_type": "execute_result"
    }
   ],
   "source": [
    "# test\n",
    "pos = {\n",
    "    \"io\": P(-1, 0, 2),\n",
    "    \"europa\": P(2, -10, -7),\n",
    "    \"ganymede\": P(4, -8, 8),\n",
    "    \"callisto\": P(3, 5, -1)\n",
    "}\n",
    "res = [repeat_axis([pos[moon][ax] for moon in pos]) for ax in range(3)]\n",
    "lcm(lcm(res[0],res[1]),res[2])"
   ]
  },
  {
   "cell_type": "code",
   "execution_count": 97,
   "metadata": {},
   "outputs": [
    {
     "data": {
      "text/plain": [
       "583523031727256"
      ]
     },
     "execution_count": 97,
     "metadata": {},
     "output_type": "execute_result"
    }
   ],
   "source": [
    "inp = get_puzzle(12)\n",
    "moons = np.array([list(map(int,re.findall(r'-?\\d+', s))) for s in inp])\n",
    "res = [repeat_axis(moons[:,ax]) for ax in range(3)]\n",
    "lcm(lcm(res[0],res[1]),res[2])"
   ]
  }
 ],
 "metadata": {
  "kernelspec": {
   "display_name": "Python 3",
   "language": "python",
   "name": "python3"
  },
  "language_info": {
   "codemirror_mode": {
    "name": "ipython",
    "version": 3
   },
   "file_extension": ".py",
   "mimetype": "text/x-python",
   "name": "python",
   "nbconvert_exporter": "python",
   "pygments_lexer": "ipython3",
   "version": "3.7.5"
  }
 },
 "nbformat": 4,
 "nbformat_minor": 4
}
