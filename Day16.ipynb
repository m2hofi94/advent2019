{
 "cells": [
  {
   "cell_type": "code",
   "execution_count": 1,
   "metadata": {},
   "outputs": [],
   "source": [
    "%run util.ipynb"
   ]
  },
  {
   "cell_type": "code",
   "execution_count": 2,
   "metadata": {},
   "outputs": [],
   "source": [
    "pattern = np.array([0,1,0,-1], dtype=np.int8)"
   ]
  },
  {
   "cell_type": "code",
   "execution_count": 3,
   "metadata": {},
   "outputs": [],
   "source": [
    "def get_pattern(i,l):\n",
    "    r = pattern.repeat(i+1)\n",
    "    return np.append(r, [r for _ in range(l//len(r))])[1:l+1].astype(np.int8)\n",
    "def get_el(ls, pattern):\n",
    "    return int(abs((ls * pattern).sum())%10)"
   ]
  },
  {
   "cell_type": "code",
   "execution_count": 4,
   "metadata": {},
   "outputs": [],
   "source": [
    "inp = np.array(list(map(int, get_puzzle(16))))\n",
    "for p in range(100):\n",
    "    #print(p)\n",
    "    res = []\n",
    "    l = len(inp)\n",
    "    for i in range(l):\n",
    "        p = get_pattern(i,l)\n",
    "        res.append(get_el(inp,p))\n",
    "\n",
    "    #print(res)\n",
    "    inp = np.array(res)"
   ]
  },
  {
   "cell_type": "code",
   "execution_count": 5,
   "metadata": {},
   "outputs": [
    {
     "data": {
      "text/plain": [
       "'68764632'"
      ]
     },
     "execution_count": 5,
     "metadata": {},
     "output_type": "execute_result"
    }
   ],
   "source": [
    "\"\".join(map(str,res[:8]))"
   ]
  },
  {
   "cell_type": "markdown",
   "metadata": {},
   "source": [
    "# Part 2"
   ]
  },
  {
   "cell_type": "code",
   "execution_count": 36,
   "metadata": {},
   "outputs": [],
   "source": [
    "inp = np.array(list(map(int, get_puzzle(16))))\n",
    "inp = np.append(inp, [inp for _ in range(10000-1)])\n",
    "\n",
    "offset = int(\"\".join(map(str, inp[:7])))\n",
    "inp = inp[offset:][::-1]"
   ]
  },
  {
   "cell_type": "code",
   "execution_count": 37,
   "metadata": {},
   "outputs": [
    {
     "data": {
      "application/vnd.jupyter.widget-view+json": {
       "model_id": "57c6cd87a2e2496dbf681858683b51f8",
       "version_major": 2,
       "version_minor": 0
      },
      "text/plain": [
       "HBox(children=(FloatProgress(value=0.0), HTML(value='')))"
      ]
     },
     "metadata": {},
     "output_type": "display_data"
    },
    {
     "name": "stdout",
     "output_type": "stream",
     "text": [
      "\n"
     ]
    },
    {
     "data": {
      "text/plain": [
       "'52825021'"
      ]
     },
     "execution_count": 37,
     "metadata": {},
     "output_type": "execute_result"
    }
   ],
   "source": [
    "for _ in tqdm(range(100)):\n",
    "    out = np.zeros(len(inp))\n",
    "    for i in range(len(inp)):\n",
    "        out[i] = out[i-1] + inp[i]\n",
    "    inp = np.mod(out,10)\n",
    "    \n",
    "\"\".join(map(str, inp[::-1].astype(int)[:8]))"
   ]
  },
  {
   "cell_type": "code",
   "execution_count": null,
   "metadata": {},
   "outputs": [],
   "source": []
  }
 ],
 "metadata": {
  "kernelspec": {
   "display_name": "Python 3",
   "language": "python",
   "name": "python3"
  },
  "language_info": {
   "codemirror_mode": {
    "name": "ipython",
    "version": 3
   },
   "file_extension": ".py",
   "mimetype": "text/x-python",
   "name": "python",
   "nbconvert_exporter": "python",
   "pygments_lexer": "ipython3",
   "version": "3.7.5"
  }
 },
 "nbformat": 4,
 "nbformat_minor": 4
}
