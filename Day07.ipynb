{
 "cells": [
  {
   "cell_type": "markdown",
   "metadata": {},
   "source": [
    "# Day 07: Amplification Circuit\n",
    "## Part One"
   ]
  },
  {
   "cell_type": "code",
   "execution_count": 173,
   "metadata": {},
   "outputs": [],
   "source": [
    "from collections import deque\n",
    "class Intcode:\n",
    "    def __init__(self, program, inp=[]):\n",
    "        self.iter = None\n",
    "        self.codes = [int(i) for i in program.split(',')]\n",
    "        self.inp = deque(inp)\n",
    "        self.base = 0\n",
    "        self.pos = 0\n",
    "        self.ops = {\n",
    "            1: self._add,\n",
    "            2: self._multiply,\n",
    "            #3: self._inpt,\n",
    "            #4: self._outpt,\n",
    "            5: self._jump_if_true,\n",
    "            6: self._jump_if_false,\n",
    "            7: self._less_than,\n",
    "            8: self._equals,\n",
    "            9: self._adjust_base,\n",
    "            99: self._halt\n",
    "        }\n",
    "        \n",
    "    def run(self):\n",
    "        if self.iter is None:\n",
    "            self.iter = self._run()\n",
    "        return next(self.iter)\n",
    "    \n",
    "    def _run(self):\n",
    "        while self.pos < len(self.codes):\n",
    "            opcode = self.codes[self.pos] % 100\n",
    "\n",
    "            if opcode == 4:\n",
    "                self.pos, out = self._outpt()\n",
    "                yield out\n",
    "            elif opcode == 3:\n",
    "                self.pos = self._inpt()\n",
    "            else:\n",
    "                self.pos = self.ops[opcode]()\n",
    "                \n",
    "    def add_input(self, *args):\n",
    "        self.inp.extend(args)\n",
    "        return self\n",
    "                \n",
    "    def _get_params(self, num):\n",
    "        res = []\n",
    "        modes = list(str(self.codes[self.pos])[:-2])\n",
    "        for arg in self.codes[self.pos+1:self.pos+num+1]:\n",
    "            if len(modes) > 0:\n",
    "                m = int(modes.pop())\n",
    "            else:\n",
    "                m = 0\n",
    "            if m == 0:\n",
    "                res.append(self._r(arg))\n",
    "            elif m == 1:\n",
    "                res.append(arg)\n",
    "            elif m == 2:\n",
    "                res.append(self._r(self.base + arg))\n",
    "        return res if len(res) > 1 else res[0]\n",
    "\n",
    "    def _get_out_pos(self, pos, offset):\n",
    "        modes = list(str(self.codes[pos])[:-2])\n",
    "        if len(modes) >= offset and modes[0] == \"2\":\n",
    "            return self.base + self._r(pos+offset)\n",
    "        return self.codes[pos + offset]\n",
    "    \n",
    "    def _expand(self, pos):\n",
    "        if pos >= len(self.codes):\n",
    "            self.codes.extend([0]*(pos-len(self.codes) + 1))\n",
    "\n",
    "    def _r(self, pos):\n",
    "        self._expand(pos)\n",
    "        return self.codes[pos]\n",
    "\n",
    "    def _w(self, pos, offset, val):\n",
    "        write_pos = self._get_out_pos(pos, offset)\n",
    "        self._expand(write_pos)\n",
    "        self.codes[write_pos] = val\n",
    "        \n",
    "    def _outpt(self):\n",
    "        a = self._get_params(1)\n",
    "        return self.pos + 2, a\n",
    "    \n",
    "    def _inpt(self):\n",
    "        self._w(self.pos, 1, self.inp.popleft())\n",
    "        return self.pos + 2\n",
    "    \n",
    "    def _add(self):\n",
    "        a,b = self._get_params(2)\n",
    "        self._w(self.pos, 3, a + b)\n",
    "        return self.pos + 4\n",
    "    \n",
    "    def _multiply(self):\n",
    "        a,b = self._get_params(2)\n",
    "        self._w(self.pos, 3, a * b)\n",
    "        return self.pos + 4\n",
    "    \n",
    "    def _halt(self):\n",
    "        return float(\"inf\")\n",
    "\n",
    "    def _jump_if_true(self):\n",
    "        a,b = self._get_params(2)\n",
    "        if a != 0:\n",
    "            return b\n",
    "        return self.pos+3\n",
    "\n",
    "    def _jump_if_false(self):\n",
    "        a,b = self._get_params(2)\n",
    "        if a == 0:\n",
    "            return b\n",
    "        return self.pos+3\n",
    "\n",
    "    def _less_than(self):\n",
    "        a,b = self._get_params(2)\n",
    "        self._w(self.pos, 3, int(a < b))\n",
    "        return self.pos+4\n",
    "\n",
    "    def _equals(self):\n",
    "        a,b = self._get_params(2)\n",
    "        self._w(self.pos, 3, int(a==b))\n",
    "        return self.pos+4\n",
    "\n",
    "    def _adjust_base(self):\n",
    "        a = self._get_params(1)\n",
    "        self.base += a\n",
    "        return self.pos + 2"
   ]
  },
  {
   "cell_type": "code",
   "execution_count": 4,
   "metadata": {},
   "outputs": [],
   "source": [
    "import itertools"
   ]
  },
  {
   "cell_type": "code",
   "execution_count": 175,
   "metadata": {},
   "outputs": [],
   "source": [
    "with open('input/7_1.txt') as f:\n",
    "    program = f.read().strip()"
   ]
  },
  {
   "cell_type": "code",
   "execution_count": 176,
   "metadata": {},
   "outputs": [],
   "source": [
    "def amplify(program, phases):\n",
    "    out = 0\n",
    "    for phase in phases:\n",
    "        out = Intcode(program, [phase, out]).run()\n",
    "    return out"
   ]
  },
  {
   "cell_type": "code",
   "execution_count": 177,
   "metadata": {},
   "outputs": [
    {
     "data": {
      "text/plain": [
       "118936"
      ]
     },
     "execution_count": 177,
     "metadata": {},
     "output_type": "execute_result"
    }
   ],
   "source": [
    "max(amplify(program, perm) for perm in (itertools.permutations(range(5),5)))"
   ]
  },
  {
   "cell_type": "markdown",
   "metadata": {},
   "source": [
    "## Part Two"
   ]
  },
  {
   "cell_type": "code",
   "execution_count": 143,
   "metadata": {},
   "outputs": [],
   "source": [
    "program = \"3,52,1001,52,-5,52,3,53,1,52,56,54,1007,54,5,55,1005,55,26,1001,54,-5,54,1105,1,12,1,53,54,53,1008,54,0,55,1001,55,1,55,2,53,55,53,4,53,1001,56,-1,56,1005,56,6,99,0,0,0,0,10\"\n",
    "phases = [9,7,8,5,6]"
   ]
  },
  {
   "cell_type": "code",
   "execution_count": 180,
   "metadata": {},
   "outputs": [],
   "source": [
    "def amplify(program, phases):\n",
    "    amps = [Intcode(program).add_input(phase) for phase in phases]\n",
    "\n",
    "    out = 0\n",
    "    for amp in itertools.cycle(amps):\n",
    "        try:\n",
    "            out = amp.add_input(out).run()\n",
    "        except StopIteration:\n",
    "            return out"
   ]
  },
  {
   "cell_type": "code",
   "execution_count": 5,
   "metadata": {},
   "outputs": [
    {
     "data": {
      "text/plain": [
       "57660948"
      ]
     },
     "execution_count": 5,
     "metadata": {},
     "output_type": "execute_result"
    }
   ],
   "source": [
    "with open('input/7_1.txt') as f:\n",
    "    program = f.read().strip()\n",
    "max(amplify(program, perm) for perm in (itertools.permutations(range(5,10),5)))"
   ]
  }
 ],
 "metadata": {
  "kernelspec": {
   "display_name": "Python 3",
   "language": "python",
   "name": "python3"
  },
  "language_info": {
   "codemirror_mode": {
    "name": "ipython",
    "version": 3
   },
   "file_extension": ".py",
   "mimetype": "text/x-python",
   "name": "python",
   "nbconvert_exporter": "python",
   "pygments_lexer": "ipython3",
   "version": "3.7.5"
  }
 },
 "nbformat": 4,
 "nbformat_minor": 4
}
