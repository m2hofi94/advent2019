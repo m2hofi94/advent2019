{
 "cells": [
  {
   "cell_type": "code",
   "execution_count": 1,
   "metadata": {},
   "outputs": [],
   "source": [
    "%run util.ipynb\n",
    "import itertools"
   ]
  },
  {
   "cell_type": "code",
   "execution_count": 92,
   "metadata": {},
   "outputs": [],
   "source": [
    "cave = \"\"\"#################\n",
    "#i.G..c...e..H.p#\n",
    "########.########\n",
    "#j.A..b...f..D.o#\n",
    "########@########\n",
    "#k.E..a...g..B.n#\n",
    "########.########\n",
    "#l.F..d...h..C.m#\n",
    "#################\"\"\".split('\\n')\n",
    "cave = [list(c) for c in cave]\n",
    "\n",
    "def draw(cave, pos):\n",
    "    old, cave[pos.y][pos.x] = cave[pos.y][pos.x],'@'\n",
    "    print('\\n'.join(''.join(c) for c in cave))\n",
    "    cave[pos.y][pos.x] = old"
   ]
  },
  {
   "cell_type": "code",
   "execution_count": 93,
   "metadata": {},
   "outputs": [
    {
     "name": "stdout",
     "output_type": "stream",
     "text": [
      "#################\n",
      "#i.G..c...e..H.p#\n",
      "########.########\n",
      "#j.A..b...f..D.o#\n",
      "########@########\n",
      "#k.E..a...g..B.n#\n",
      "########.########\n",
      "#l.F..d...h..C.m#\n",
      "#################\n"
     ]
    }
   ],
   "source": [
    "walls = set()\n",
    "keys = {}\n",
    "doors = {}\n",
    "pos = P(0,0)\n",
    "\n",
    "for i in range(len(cave)):\n",
    "    for j in range(len(cave[0])):\n",
    "        c = ord(cave[i][j])\n",
    "        p = P(j,i)\n",
    "        if c == 35:\n",
    "            walls.add(p)\n",
    "        elif c >= 97:\n",
    "            keys[cave[i][j]] = p\n",
    "        elif c >= 65:\n",
    "            doors[cave[i][j]] = p\n",
    "        elif c == 64:\n",
    "            pos = p\n",
    "            cave[i][j] = '.'\n",
    "            \n",
    "draw(cave, pos)"
   ]
  },
  {
   "cell_type": "code",
   "execution_count": 94,
   "metadata": {},
   "outputs": [],
   "source": [
    "dirs = [P(1,0),P(0,1),P(-1,0),P(0,-1)]\n"
   ]
  },
  {
   "cell_type": "code",
   "execution_count": 95,
   "metadata": {},
   "outputs": [],
   "source": [
    "def options(cave, pos):\n",
    "    res = []\n",
    "    for d in dirs:\n",
    "        p = pos+d\n",
    "        if cave[p.y][p.x] != '#':\n",
    "            res.append(p)\n",
    "            \n",
    "    return res"
   ]
  },
  {
   "cell_type": "code",
   "execution_count": 96,
   "metadata": {},
   "outputs": [],
   "source": [
    "from IPython import display\n",
    "from time import sleep"
   ]
  },
  {
   "cell_type": "code",
   "execution_count": 97,
   "metadata": {},
   "outputs": [],
   "source": [
    "def traverse(cave, pos, prev=None):\n",
    "    if prev is None:\n",
    "        prev = pos\n",
    "    opts = options(cave, pos)\n",
    "    if len(opts) == 1:\n",
    "        return\n",
    "    for opt in opts:\n",
    "        if opt == prev:\n",
    "            continue\n",
    "        display.clear_output(wait=True)\n",
    "        draw(cave, opt)\n",
    "        sleep(0.1)\n",
    "        traverse(cave, opt, pos)"
   ]
  },
  {
   "cell_type": "code",
   "execution_count": 98,
   "metadata": {},
   "outputs": [
    {
     "name": "stdout",
     "output_type": "stream",
     "text": [
      "#################\n",
      "#@.G..c...e..H.p#\n",
      "########.########\n",
      "#j.A..b...f..D.o#\n",
      "########.########\n",
      "#k.E..a...g..B.n#\n",
      "########.########\n",
      "#l.F..d...h..C.m#\n",
      "#################\n"
     ]
    }
   ],
   "source": [
    "traverse(cave, pos)"
   ]
  },
  {
   "cell_type": "code",
   "execution_count": 116,
   "metadata": {},
   "outputs": [
    {
     "ename": "SyntaxError",
     "evalue": "invalid syntax (<ipython-input-116-eeff729a0908>, line 14)",
     "output_type": "error",
     "traceback": [
      "\u001b[0;36m  File \u001b[0;32m\"<ipython-input-116-eeff729a0908>\"\u001b[0;36m, line \u001b[0;32m14\u001b[0m\n\u001b[0;31m    return *[available_keys(cave, opt, pos) for opt in opts if opt != prev]\u001b[0m\n\u001b[0m           ^\u001b[0m\n\u001b[0;31mSyntaxError\u001b[0m\u001b[0;31m:\u001b[0m invalid syntax\n"
     ]
    }
   ],
   "source": [
    "def available_keys(cave, pos, prev=None):\n",
    "    if prev is None:\n",
    "        prev = pos\n",
    "    c = cave[pos.y][pos.x]\n",
    "    if ord(c) >= 97:\n",
    "        return [c]\n",
    "    if ord(c) >= 65:\n",
    "        return []\n",
    "    \n",
    "    opts = options(cave, pos)\n",
    "    if len(opts) == 1:\n",
    "        return []\n",
    "    \n",
    "    return [available_keys(cave, opt, pos) for opt in opts if opt != prev]"
   ]
  },
  {
   "cell_type": "code",
   "execution_count": 115,
   "metadata": {},
   "outputs": [
    {
     "data": {
      "text/plain": [
       "[[[['g']], [[[['h']], [['d']]]], [['a']]],\n",
       " [[['f']], [['b']], [[[['e']], [['c']]]]]]"
      ]
     },
     "execution_count": 115,
     "metadata": {},
     "output_type": "execute_result"
    }
   ],
   "source": [
    "available_keys(cave, pos)"
   ]
  },
  {
   "cell_type": "code",
   "execution_count": 111,
   "metadata": {},
   "outputs": [
    {
     "name": "stdout",
     "output_type": "stream",
     "text": [
      "#################\n",
      "#i.G..c...e..H.p#\n",
      "########.########\n",
      "#j.A..b...f..D.o#\n",
      "########@########\n",
      "#k.E..a...g..B.n#\n",
      "########.########\n",
      "#l.F..d...h..C.m#\n",
      "#################\n"
     ]
    }
   ],
   "source": [
    "draw(cave,pos)"
   ]
  },
  {
   "cell_type": "code",
   "execution_count": 83,
   "metadata": {},
   "outputs": [
    {
     "data": {
      "text/plain": [
       "{1}"
      ]
     },
     "execution_count": 83,
     "metadata": {},
     "output_type": "execute_result"
    }
   ],
   "source": [
    "s = set()\n",
    "s.add(1)\n",
    "t = set()\n",
    "t.add(3)\n",
    "s  t"
   ]
  },
  {
   "cell_type": "code",
   "execution_count": 78,
   "metadata": {},
   "outputs": [
    {
     "data": {
      "text/plain": [
       "{1}"
      ]
     },
     "execution_count": 78,
     "metadata": {},
     "output_type": "execute_result"
    }
   ],
   "source": [
    "s"
   ]
  },
  {
   "cell_type": "code",
   "execution_count": null,
   "metadata": {},
   "outputs": [],
   "source": []
  }
 ],
 "metadata": {
  "kernelspec": {
   "display_name": "Python 3",
   "language": "python",
   "name": "python3"
  },
  "language_info": {
   "codemirror_mode": {
    "name": "ipython",
    "version": 3
   },
   "file_extension": ".py",
   "mimetype": "text/x-python",
   "name": "python",
   "nbconvert_exporter": "python",
   "pygments_lexer": "ipython3",
   "version": "3.7.5"
  }
 },
 "nbformat": 4,
 "nbformat_minor": 4
}
