{
 "cells": [
  {
   "cell_type": "markdown",
   "metadata": {},
   "source": [
    "# Day 10:\n",
    "## Part One"
   ]
  },
  {
   "cell_type": "code",
   "execution_count": 11,
   "metadata": {},
   "outputs": [],
   "source": [
    "import math\n",
    "from collections import namedtuple"
   ]
  },
  {
   "cell_type": "code",
   "execution_count": 12,
   "metadata": {},
   "outputs": [],
   "source": [
    "inp = \"\"\".#..##.###...#######\n",
    "##.############..##.\n",
    ".#.######.########.#\n",
    ".###.#######.####.#.\n",
    "#####.##.#.##.###.##\n",
    "..#####..#.#########\n",
    "####################\n",
    "#.####....###.#.#.##\n",
    "##.#################\n",
    "#####.##.###..####..\n",
    "..######..##.#######\n",
    "####.##.####...##..#\n",
    ".#####..#.######.###\n",
    "##...#.##########...\n",
    "#.##########.#######\n",
    ".####.#.###.###.#.##\n",
    "....##.##.###..#####\n",
    ".#.#.###########.###\n",
    "#.#.#.#####.####.###\n",
    "###.##.####.##.#..##\"\"\""
   ]
  },
  {
   "cell_type": "code",
   "execution_count": 13,
   "metadata": {},
   "outputs": [],
   "source": [
    "\n",
    "class Vector(namedtuple(\"Vector\", ['x', 'y'])):\n",
    "    def __add__(self, other):\n",
    "        return Vector(self[0]+other[0], self[1]+other[1])\n",
    "    def __sub__(self, other):\n",
    "        return Vector(self[0]-other[0], self[1]-other[1])\n",
    "    def __truediv__(self, other):\n",
    "        return (self[0]/other, self[1]/other)"
   ]
  },
  {
   "cell_type": "code",
   "execution_count": 14,
   "metadata": {},
   "outputs": [],
   "source": [
    "def get_asteroids(inp):\n",
    "    inp = inp.split('\\n')\n",
    "    asteroids = set()\n",
    "    for i in range(len(inp)):\n",
    "        for j in range(len(inp[i])):\n",
    "            if inp[i][j] == \"#\":\n",
    "                asteroids.add(Vector(i,j))\n",
    "    return asteroids"
   ]
  },
  {
   "cell_type": "code",
   "execution_count": 15,
   "metadata": {},
   "outputs": [],
   "source": [
    "def is_blocked(ast, other, asteroids):\n",
    "    blocked = False\n",
    "    vec = other - ast\n",
    "    gcd = math.gcd(*vec)\n",
    "    if gcd > 1:\n",
    "        vec = vec / gcd\n",
    "    line = ast + vec\n",
    "    while line != other:\n",
    "        if line in asteroids:\n",
    "            blocked = True\n",
    "            break\n",
    "        line = line + vec\n",
    "    return blocked"
   ]
  },
  {
   "cell_type": "code",
   "execution_count": 16,
   "metadata": {},
   "outputs": [],
   "source": [
    "def max_vis(asteroids):\n",
    "    count = {}\n",
    "    for ast in asteroids:\n",
    "        count[ast] = len(asteroids) - 1\n",
    "        for other in asteroids:\n",
    "            blocked = is_blocked(ast, other, asteroids)\n",
    "            count[ast] -= int(blocked)\n",
    "            \n",
    "    return max(count.values()), count"
   ]
  },
  {
   "cell_type": "code",
   "execution_count": 17,
   "metadata": {},
   "outputs": [
    {
     "data": {
      "text/plain": [
       "253"
      ]
     },
     "execution_count": 17,
     "metadata": {},
     "output_type": "execute_result"
    }
   ],
   "source": [
    "with open(\"input/10_1.txt\") as f:\n",
    "    inp = f.read().strip()\n",
    "    \n",
    "out, count = max_vis(get_asteroids(inp))\n",
    "out"
   ]
  },
  {
   "cell_type": "markdown",
   "metadata": {},
   "source": [
    "## Part Two"
   ]
  },
  {
   "cell_type": "code",
   "execution_count": 21,
   "metadata": {},
   "outputs": [],
   "source": [
    "import numpy as np"
   ]
  },
  {
   "cell_type": "code",
   "execution_count": 22,
   "metadata": {},
   "outputs": [],
   "source": [
    "inp = \"\"\".#..##.###...#######\n",
    "##.############..##.\n",
    ".#.######.########.#\n",
    ".###.#######.####.#.\n",
    "#####.##.#.##.###.##\n",
    "..#####..#.#########\n",
    "####################\n",
    "#.####....###.#.#.##\n",
    "##.#################\n",
    "#####.##.###..####..\n",
    "..######..##.#######\n",
    "####.##.####...##..#\n",
    ".#####..#.######.###\n",
    "##...#.##########...\n",
    "#.##########.#######\n",
    ".####.#.###.###.#.##\n",
    "....##.##.###..#####\n",
    ".#.#.###########.###\n",
    "#.#.#.#####.####.###\n",
    "###.##.####.##.#..##\"\"\""
   ]
  },
  {
   "cell_type": "code",
   "execution_count": 23,
   "metadata": {},
   "outputs": [],
   "source": [
    "def get_by_count(c, counts):\n",
    "    for el, val in counts.items():\n",
    "        if val == c:\n",
    "            return el\n",
    "\n",
    "def angle(asteroid, station):\n",
    "    north = (-1,0)\n",
    "    vec = asteroid - station\n",
    "    angle = np.degrees((np.math.atan2(np.linalg.det([vec,north]),np.dot(vec,north))))\n",
    "    return angle%360\n",
    "\n",
    "def vaporize(asts, station):\n",
    "    asteroids = asts.copy()\n",
    "    asteroids.remove(station)\n",
    "    order = sorted(asteroids, key=lambda a: angle(a, station))\n",
    "    \n",
    "    vaporized = []\n",
    "    for asteroid in order:\n",
    "        if not is_blocked(station, asteroid, asteroids):\n",
    "            vaporized.append(asteroid)\n",
    "    \n",
    "    return vaporized"
   ]
  },
  {
   "cell_type": "code",
   "execution_count": 24,
   "metadata": {},
   "outputs": [],
   "source": [
    "with open(\"input/10_1.txt\") as f:\n",
    "    inp = f.read().strip()"
   ]
  },
  {
   "cell_type": "code",
   "execution_count": 25,
   "metadata": {},
   "outputs": [
    {
     "data": {
      "text/plain": [
       "815"
      ]
     },
     "execution_count": 25,
     "metadata": {},
     "output_type": "execute_result"
    }
   ],
   "source": [
    "asteroids = get_asteroids(inp)\n",
    "out, count = max_vis(asteroids)\n",
    "station = get_by_count(out, count)\n",
    "\n",
    "vaporized = vaporize(asteroids, station)\n",
    "vaporized[199][1] * 100 + vaporized[199][0]"
   ]
  }
 ],
 "metadata": {
  "kernelspec": {
   "display_name": "Python 3",
   "language": "python",
   "name": "python3"
  },
  "language_info": {
   "codemirror_mode": {
    "name": "ipython",
    "version": 3
   },
   "file_extension": ".py",
   "mimetype": "text/x-python",
   "name": "python",
   "nbconvert_exporter": "python",
   "pygments_lexer": "ipython3",
   "version": "3.7.5"
  }
 },
 "nbformat": 4,
 "nbformat_minor": 4
}
