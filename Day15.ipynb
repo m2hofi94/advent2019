{
 "cells": [
  {
   "cell_type": "code",
   "execution_count": 6,
   "metadata": {},
   "outputs": [],
   "source": [
    "%run util.ipynb\n",
    "import intcode"
   ]
  },
  {
   "cell_type": "code",
   "execution_count": 7,
   "metadata": {},
   "outputs": [],
   "source": [
    "import random"
   ]
  },
  {
   "cell_type": "code",
   "execution_count": 8,
   "metadata": {},
   "outputs": [],
   "source": [
    "dirs = [P(0,-1), P(0,1), P(-1,0), P(1,0)]\n",
    "def back(cur_dir):\n",
    "    return {\n",
    "        0:1,\n",
    "        1:0,\n",
    "        2:3,\n",
    "        3:2\n",
    "    }[cur_dir]"
   ]
  },
  {
   "cell_type": "code",
   "execution_count": 9,
   "metadata": {},
   "outputs": [],
   "source": [
    "def move_robot(robot, grid, cur_dir, pos):\n",
    "    robot.provide_input(cur_dir + 1)\n",
    "    status = robot.run()\n",
    "    grid[pos + dirs[cur_dir]] = status - 1\n",
    "    if status == 1:\n",
    "        pos = pos + dirs[cur_dir]\n",
    "    \n",
    "    return pos, status"
   ]
  },
  {
   "cell_type": "code",
   "execution_count": 19,
   "metadata": {},
   "outputs": [
    {
     "name": "stdout",
     "output_type": "stream",
     "text": [
      " █████████████ ███████████           \n",
      "█             █           █          \n",
      "█ █████ █████ █ █████████ █          \n",
      "█     █ █   █ █ █   █   █ █          \n",
      " ████ █ █ █ ███ █ █ ███ █ ██         \n",
      "  █   █   █   █   █     █   █        \n",
      "  █ ██████ ██ ███ ███████ █ ████████ \n",
      "  █ █0      █   █ █     █ █         █\n",
      "  █ █████ █ █ ███ █ ███ █████ █████ █\n",
      "  █       █ █     █   █     █     █ █\n",
      "   ███████   ████████ █████ █████ █ █\n",
      "                █     █ █   █   █ █ █\n",
      "               ██ ████  █ ███ █ ███ █\n",
      "              █   █     █ █   █     █\n",
      "              █ ██      █ █ ██ █████ \n",
      "              █ █       █ █   █      \n",
      "             ██ █       █ ███ █      \n",
      "            █   █       █     █      \n",
      "            █ ██   ███   █████       \n",
      "            █ █   █   █              \n",
      "            █ ██  █ █ █              \n",
      "            █   █ █ █ █              \n",
      "             ██ █ █ ████             \n",
      "              █ █ █     █            \n",
      "         ███ ██ █  ████ █            \n",
      "        █   █   █     █ █            \n",
      "     ████ █ █ ██      █ █            \n",
      "    █     █   █       █ █            \n",
      "    █ ████████   ███  █ █            \n",
      "    █ █     █   █   █ █ █            \n",
      "    █ █ ███ █   █ █ ███ █            \n",
      "    █   █ █ █   █ █     █            \n",
      "     ███  █ ██  █ ██████             \n",
      "          █   █ █ █                  \n",
      "           ██ ███ █                  \n",
      "            █     █                  \n",
      "             █████                   \n"
     ]
    },
    {
     "data": {
      "text/plain": [
       "(-21, 15, -21, 15)"
      ]
     },
     "execution_count": 19,
     "metadata": {},
     "output_type": "execute_result"
    }
   ],
   "source": [
    "origin = None\n",
    "program = get_puzzle(15)\n",
    "robot = intcode.VM(program)\n",
    "pos = P(0,0)\n",
    "grid = defaultdict(int)\n",
    "grid[pos] = 0\n",
    "cur_dir = 0\n",
    "path = []\n",
    "i = 0\n",
    "while True:\n",
    "    i+=1\n",
    "    possible = set()\n",
    "    for cur_dir in range(0,4):\n",
    "        pos, status = move_robot(robot, grid, cur_dir, pos)\n",
    "        if status == 1:\n",
    "            possible.add(cur_dir)\n",
    "            cur_dir = back(cur_dir)\n",
    "            pos, status = move_robot(robot, grid, cur_dir, pos)\n",
    "        if status == 2:\n",
    "            break\n",
    "    if status == 2:\n",
    "        break\n",
    "    \n",
    "    if origin is not None and len(possible) > 1:\n",
    "        possible.remove(origin)\n",
    "    cur_dir = random.choice(list(possible))\n",
    "    origin = back(cur_dir)\n",
    "    pos, status = move_robot(robot, grid, cur_dir, pos)\n",
    "    try:\n",
    "        i = path.index(pos)\n",
    "        path = path[:i+1]\n",
    "    except ValueError:\n",
    "        path.append(pos)\n",
    "    \n",
    "    #if i%100 == 0:\n",
    "    paint(grid, markers={-1: '█', 0: ' ', 1: 'X'}, highlight=pos)\n",
    "\n",
    "paint(grid, markers={-1: '█', 0: ' ', 1: 'X'}, highlight=pos)"
   ]
  },
  {
   "cell_type": "code",
   "execution_count": 6,
   "metadata": {},
   "outputs": [
    {
     "data": {
      "text/plain": [
       "242"
      ]
     },
     "execution_count": 6,
     "metadata": {},
     "output_type": "execute_result"
    }
   ],
   "source": [
    "len(path)+1"
   ]
  },
  {
   "cell_type": "markdown",
   "metadata": {},
   "source": [
    "# Part 2"
   ]
  },
  {
   "cell_type": "code",
   "execution_count": 20,
   "metadata": {},
   "outputs": [],
   "source": [
    "def move_robot(robot, grid, cur_dir, pos):\n",
    "    robot.provide_input(cur_dir + 1)\n",
    "    status = robot.run()\n",
    "    npos = pos + dirs[cur_dir]\n",
    "    grid[npos] = status - 1\n",
    "    if status == 1 or status == 2:\n",
    "        pos = npos\n",
    "    \n",
    "    return pos, status"
   ]
  },
  {
   "cell_type": "code",
   "execution_count": 21,
   "metadata": {},
   "outputs": [
    {
     "name": "stdout",
     "output_type": "stream",
     "text": [
      " █████████████ ███████████ ███████ █████ \n",
      "█             █           █       █     █\n",
      "█ █████ █████ █ █████████ █ ███ ███ ███ █\n",
      "█     █ █   █ █ █   █   █ █   █     █   █\n",
      " ████ █ █ █ ███ █ █ ███ █ ███ ███████ ██ \n",
      "█ █   █   █   █   █     █   █       █   █\n",
      "█ █ █████████ ███ ███████ █ ████████ ██ █\n",
      "█ █ █X      █   █ █     █ █         █   █\n",
      "█ █ █████ █ █ ███ █ ███ █████ █████ █ █ █\n",
      "█ █       █ █     █   █     █     █ █ █ █\n",
      "█ █████████ █████████ █████ █████ █ █ ██ \n",
      "█         █     █     █ █   █   █ █ █   █\n",
      "█ ███████ ███ ███ █████ █ ███ █ ███ █ █ █\n",
      "█ █         █ █   █     █ █   █     █ █ █\n",
      "█ █ ███ █████ █ ███ ███ █ █ ██ ████████ █\n",
      "█ █   █ █     █ █     █ █ █   █   █     █\n",
      " ████ █ █ █████ █ ███ ███ ███ █ █ █ █ ██ \n",
      "█     █ █ █ █   █   █   █     █ █ █ █   █\n",
      "█ █████ █ █ █ ███ █████ ███████ █ █████ █\n",
      "█ █ █   █   █ █   █   █     █   █       █\n",
      "█ █ █ █████ █ ███ █ █ █ █████ █ █ █████ █\n",
      "█ █       █ █   █ █ █ █     █ █ █ █   █ █\n",
      "█ █████████ ███ █ █ ███████ █ █ ███ █ █ █\n",
      "█   █         █ █ █     █   █ █     █ █ █\n",
      "█ █ █ █████████ █ █████ █ ███ ███████ █ █\n",
      "█ █     █   █   █ █   █ █       █     █ █\n",
      "█ ███████ █ █ ███ ███ █ █ ███████ █████ █\n",
      "█   █     █   █       █ █   █   █   █ █ █\n",
      " ██ █ █████████ █████ █ █ ███ █ █ █ █ █ █\n",
      "█ █ █ █     █ █ █   █ █ █ █   █ █ █ █   █\n",
      "█ █ █ █ ███ █ █ █ █ ███ ███ ███ █ █ █ ██ \n",
      "█   █   █ █ █   █ █     █   █ █ █ █ █   █\n",
      "█ ██ ████ █ ███ █ ███████ ███ █ ███ ████ \n",
      "█   █     █   █ █ █       █   █   █ █   █\n",
      " ██ █ ███ ███ ███ █ ███ ███ █ ███ █ █ █ █\n",
      "█ █ █ █   █ █     █ █   █0  █ █   █   █ █\n",
      "█ █ █ █ ███ ██████ ██ █████ ███ ███████ █\n",
      "█ █ █ █ █         █   █     █   █   █   █\n",
      "█ █ █ █ █████ ███ █ ███ █████ ███ █ █ █ █\n",
      "█     █       █     █             █   █ █\n",
      " █████ ███████ █████ █████████████ ███ █ \n"
     ]
    },
    {
     "data": {
      "text/plain": [
       "(-21, 19, -21, 19)"
      ]
     },
     "execution_count": 21,
     "metadata": {},
     "output_type": "execute_result"
    }
   ],
   "source": [
    "origin = None\n",
    "program = get_puzzle(15)\n",
    "robot = intcode.VM(program)\n",
    "pos = P(0,0)\n",
    "grid = defaultdict(int)\n",
    "grid[pos] = 0\n",
    "cur_dir = 0\n",
    "visited = set([pos])\n",
    "i = 0\n",
    "while len(visited)<799:\n",
    "    i+=1\n",
    "    possible = set()\n",
    "    for cur_dir in range(0,4):\n",
    "        pos, status = move_robot(robot, grid, cur_dir, pos)\n",
    "        if status == 1 or status == 2:\n",
    "            possible.add(cur_dir)\n",
    "            cur_dir = back(cur_dir)\n",
    "            pos, status = move_robot(robot, grid, cur_dir, pos)\n",
    "    \n",
    "    if origin is not None and len(possible) > 1:\n",
    "        possible.remove(origin)\n",
    "    cur_dir = random.choice(list(possible))\n",
    "    origin = back(cur_dir)\n",
    "    pos, status = move_robot(robot, grid, cur_dir, pos)\n",
    "    visited.add(pos)\n",
    "    \n",
    "    if i%1000 == 0:\n",
    "        paint(grid, markers={-1: '█', 0: ' ', 1: 'X'}, highlight=pos)\n",
    "\n",
    "paint(grid, markers={-1: '█', 0: ' ', 1: 'X'}, highlight=pos)"
   ]
  },
  {
   "cell_type": "code",
   "execution_count": 22,
   "metadata": {},
   "outputs": [
    {
     "name": "stdout",
     "output_type": "stream",
     "text": [
      "799\n"
     ]
    }
   ],
   "source": [
    "start = [pos for pos,i in grid.items() if i == 1][0]\n",
    "empty = set(visited)\n",
    "oxy = set([start])\n",
    "c = 0\n",
    "print(len(empty))"
   ]
  },
  {
   "cell_type": "code",
   "execution_count": 23,
   "metadata": {},
   "outputs": [
    {
     "name": "stdout",
     "output_type": "stream",
     "text": [
      " █████████████ ███████████ ███████ █████ \n",
      "█OOOOOOOOOOOOO█OOOOOOOOOOO█OOOOOOO█OOOOO█\n",
      "█O█████O█████O█O█████████O█O███O███O███O█\n",
      "█OOOOO█O█OOO█O█O█OOO█OOO█O█OOO█OOOOO█OOO█\n",
      " ████O█O█O█O███O█O█O███O█O███O███████O██ \n",
      "█O█OOO█OOO█OOO█OOO█OOOOO█OOO█OOOOOOO█OOO█\n",
      "█O█O█████████O███O███████O█O████████ ██O█\n",
      "█O█O█OOOOOOO█OOO█O█OOOOO█O█OOOOOOOOO█OOO█\n",
      "█O█O█████O█O█O███O█O███O█████O█████O█O█O█\n",
      "█O█OOOOOOO█O█OOOOO█OOO█OOOOO█OOOOO█O█O█O█\n",
      "█O█████████O█████████O█████O█████O█O█O██ \n",
      "█OOOOOOOOO█OOOOO█OOOOO█O█OOO█OOO█O█O█OOO█\n",
      "█O███████O███O███O█████O█O███O█O███O█O█O█\n",
      "█O█OOOOOOOOO█O█OOO█OOOOO█O█OOO█OOOOO█O█O█\n",
      "█O█O███O█████O█O███O███O█O█O██ ████████O█\n",
      "█O█OOO█O█OOOOO█O█OOOOO█O█O█OOO█OOO█OOOOO█\n",
      " ████O█O█O█████O█O███O███O███O█O█O█O█O██ \n",
      "█OOOOO█O█O█O█OOO█OOO█OOO█OOOOO█O█O█O█OOO█\n",
      "█O█████O█O█O█O███O█████O███████O█O█████O█\n",
      "█O█O█OOO█OOO█O█OOO█OOO█OOOOO█OOO█OOOOOOO█\n",
      "█O█O█O█████O█O███O█O█O█O█████O█O█O█████O█\n",
      "█O█OOOOOOO█O█OOO█O█O█O█OOOOO█O█O█O█OOO█O█\n",
      "█O█████████O███O█O█O███████O█O█O███O█O█O█\n",
      "█OOO█OOOOOOOOO█O█O█OOOOO█OOO█O█OOOOO█O█O█\n",
      "█O█O█O█████████O█O█████O█O███O███████O█O█\n",
      "█O█OOOOO█OOO█OOO█O█OOO█O█OOOOOOO█OOOOO█O█\n",
      "█O███████O█O█O███O███O█O█O███████O█████O█\n",
      "█OOO█OOOOO█OOO█OOOOOOO█O█OOO█OOO█OOO█O█O█\n",
      " ██O█O█████████O█████O█O█O███O█O█O█O█O█O█\n",
      "█O█O█O█OOOOO█O█O█OOO█O█O█O█OOO█O█O█O█OOO█\n",
      "█O█O█O█O███O█O█O█O█O███O███O███O█O█O█O██ \n",
      "█OOO█OOO█O█O█OOO█O█OOOOO█OOO█O█O█O█O█OOO█\n",
      "█O██ ████O█O███O█O███████O███O█O███O████ \n",
      "█OOO█OOOOO█OOO█O█O█OOOOOOO█OOO█OOO█O█OOO█\n",
      " ██O█O███O███O███O█O███O███O█O███O█O█O█O█\n",
      "█O█O█O█OOO█O█OOOOO█O█OOO█OOO█O█OOO█OOO█O█\n",
      "█O█O█O█O███O██████ ██O█████O███O███████O█\n",
      "█O█O█O█O█OOOOOOOOO█OOO█OOOOO█OOO█OOO█OOO█\n",
      "█O█O█O█O█████O███O█O███O█████O███O█O█O█O█\n",
      "█OOOOO█OOOOOOO█OOOOO█OOOOOOOOOOOOO█OOO█O█\n",
      " █████ ███████ █████ █████████████ ███ █ \n"
     ]
    }
   ],
   "source": [
    "while len(empty) > 0:\n",
    "    c += 1\n",
    "    new_oxy = set()\n",
    "    for pos in oxy:\n",
    "        empty.remove(pos)\n",
    "        grid[pos] = 3\n",
    "        for i in range(4):\n",
    "            cur_dir = dirs[i]\n",
    "            new_pos = pos+cur_dir\n",
    "            if new_pos in empty:\n",
    "                new_oxy.add(new_pos)\n",
    "    oxy = new_oxy\n",
    "    paint(grid, markers={-1: '█', 0: ' ', 1: 'X',3:'O'}, sleep=0.1)"
   ]
  },
  {
   "cell_type": "code",
   "execution_count": 21,
   "metadata": {},
   "outputs": [
    {
     "data": {
      "text/plain": [
       "276"
      ]
     },
     "execution_count": 21,
     "metadata": {},
     "output_type": "execute_result"
    }
   ],
   "source": [
    "c - 1"
   ]
  },
  {
   "cell_type": "code",
   "execution_count": 3,
   "metadata": {},
   "outputs": [],
   "source": [
    "\n",
    "program = get_puzzle(15)\n",
    "robot = intcode.VM(program)"
   ]
  },
  {
   "cell_type": "code",
   "execution_count": 5,
   "metadata": {},
   "outputs": [
    {
     "ename": "AttributeError",
     "evalue": "'VM' object has no attribute 'copy'",
     "output_type": "error",
     "traceback": [
      "\u001b[0;31m--------------------------------------------------------\u001b[0m",
      "\u001b[0;31mAttributeError\u001b[0m         Traceback (most recent call last)",
      "\u001b[0;32m<ipython-input-5-fc8ec98ad316>\u001b[0m in \u001b[0;36m<module>\u001b[0;34m\u001b[0m\n\u001b[0;32m----> 1\u001b[0;31m \u001b[0mrobot\u001b[0m\u001b[0;34m.\u001b[0m\u001b[0mcopy\u001b[0m\u001b[0;34m(\u001b[0m\u001b[0;34m)\u001b[0m\u001b[0;34m\u001b[0m\u001b[0;34m\u001b[0m\u001b[0m\n\u001b[0m",
      "\u001b[0;31mAttributeError\u001b[0m: 'VM' object has no attribute 'copy'"
     ]
    }
   ],
   "source": [
    "robot.copy()"
   ]
  },
  {
   "cell_type": "code",
   "execution_count": null,
   "metadata": {},
   "outputs": [],
   "source": []
  }
 ],
 "metadata": {
  "kernelspec": {
   "display_name": "Python 3",
   "language": "python",
   "name": "python3"
  },
  "language_info": {
   "codemirror_mode": {
    "name": "ipython",
    "version": 3
   },
   "file_extension": ".py",
   "mimetype": "text/x-python",
   "name": "python",
   "nbconvert_exporter": "python",
   "pygments_lexer": "ipython3",
   "version": "3.7.5"
  }
 },
 "nbformat": 4,
 "nbformat_minor": 4
}
