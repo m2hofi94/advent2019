{
 "cells": [
  {
   "cell_type": "code",
   "execution_count": 1,
   "metadata": {},
   "outputs": [],
   "source": [
    "%run util.ipynb\n",
    "from intcode import VM"
   ]
  },
  {
   "cell_type": "code",
   "execution_count": 2,
   "metadata": {},
   "outputs": [],
   "source": [
    "prog = get_puzzle(17)"
   ]
  },
  {
   "cell_type": "code",
   "execution_count": 3,
   "metadata": {},
   "outputs": [],
   "source": [
    "asci = VM(prog)\n",
    "out = np.zeros(shape=(43,50))\n",
    "for i in range(43):\n",
    "    for j in range(50):\n",
    "        out[i][j] = asci.run()"
   ]
  },
  {
   "cell_type": "code",
   "execution_count": 4,
   "metadata": {},
   "outputs": [
    {
     "data": {
      "text/plain": [
       "<matplotlib.image.AxesImage at 0x7f1b29fe5450>"
      ]
     },
     "execution_count": 4,
     "metadata": {},
     "output_type": "execute_result"
    },
    {
     "data": {
      "image/png": "[encoded data removed]",
      "text/plain": [
       "<Figure size 432x288 with 1 Axes>"
      ]
     },
     "metadata": {
      "needs_background": "light"
     },
     "output_type": "display_data"
    }
   ],
   "source": [
    "plt.imshow(out)"
   ]
  },
  {
   "cell_type": "code",
   "execution_count": 5,
   "metadata": {},
   "outputs": [
    {
     "name": "stdout",
     "output_type": "stream",
     "text": [
      "..........................#####..................\n",
      "..........................#...#..................\n",
      "..........................#...#..................\n",
      "..........................#...#..................\n",
      "..........................#...#..................\n",
      "..........................#...#..................\n",
      "..........................#######................\n",
      "..............................#.#................\n",
      "............................###########..........\n",
      "............................#.#.#.....#..........\n",
      "..................#############.#.....#..........\n",
      "..................#.........#...#.....#..........\n",
      "..................#.........#######...#..........\n",
      "..................#.............#.#...#..........\n",
      "..................#.............#.#...#..........\n",
      "..................#.............#.#...#..........\n",
      "......#############.............#.#...#..........\n",
      "......#.........................#.#...#..........\n",
      "###########.....................#######..........\n",
      "#.....#...#.......................#..............\n",
      "#.....#...#.......................#...#######....\n",
      "#.....#...#.......................#...#.....#....\n",
      "#######...#.......................#...#.....#....\n",
      "..........#.......................#...#.....#....\n",
      "..........#.......................###########....\n",
      "..........#...........................#..........\n",
      "..........#...........................#...#######\n",
      "..........#...........................#...#.....#\n",
      "..........#.........................#####.#.....#\n",
      "..........#.........................#.#.#.#.....#\n",
      "..........#######...................#.###########\n",
      "................#...................#...#.#......\n",
      "................#.............#############......\n",
      "................#.............#.....#...#........\n",
      "................#.............#.....#...#........\n",
      "................#.............#.........#........\n",
      "................#.............#.........#........\n",
      "................#.............#.........#........\n",
      "................#.............###########........\n",
      "................#................................\n",
      "................#................................\n",
      "................#................................\n",
      "................######^..........................\n",
      "\n",
      "\n"
     ]
    }
   ],
   "source": [
    "out = [o for o in VM(prog)]\n",
    "print(\"\".join(map(chr,out)))"
   ]
  },
  {
   "cell_type": "code",
   "execution_count": 6,
   "metadata": {},
   "outputs": [
    {
     "data": {
      "text/plain": [
       "2151"
      ]
     },
     "execution_count": 6,
     "metadata": {},
     "output_type": "execute_result"
    }
   ],
   "source": [
    "len(out)"
   ]
  },
  {
   "cell_type": "code",
   "execution_count": 7,
   "metadata": {},
   "outputs": [],
   "source": [
    "arr = \"\".join(map(chr,out)).split('\\n')[:-2]"
   ]
  },
  {
   "cell_type": "code",
   "execution_count": 8,
   "metadata": {},
   "outputs": [
    {
     "data": {
      "text/plain": [
       "8928"
      ]
     },
     "execution_count": 8,
     "metadata": {},
     "output_type": "execute_result"
    }
   ],
   "source": [
    "pos = [P(1,0),P(0,1),P(-1,0),P(0,-1)]\n",
    "s = 0\n",
    "n = 0\n",
    "for i in range(1,len(arr)-1):\n",
    "    for j in range(1,len(arr[i])-1):\n",
    "        if arr[i][j] != '#':\n",
    "            continue\n",
    "        p = P(i,j)\n",
    "        cross = True\n",
    "        for k in range(4):\n",
    "            i2,j2 = p+pos[k]\n",
    "            if arr[i2][j2] != '#':\n",
    "                cross = False\n",
    "                break\n",
    "        if cross:\n",
    "            s+= i*j\n",
    "            n += 1\n",
    "s"
   ]
  },
  {
   "cell_type": "markdown",
   "metadata": {},
   "source": [
    "# Part 2"
   ]
  },
  {
   "cell_type": "code",
   "execution_count": 9,
   "metadata": {},
   "outputs": [
    {
     "name": "stdout",
     "output_type": "stream",
     "text": [
      "                                                   \n",
      "                           █████                   \n",
      "                           █   █                   \n",
      "                           █   █                   \n",
      "                           █   █                   \n",
      "                           █   █                   \n",
      "                           █   █                   \n",
      "                           ███████                 \n",
      "                               █ █                 \n",
      "                             ███████████           \n",
      "                             █ █ █     █           \n",
      "                   █████████████ █     █           \n",
      "                   █         █   █     █           \n",
      "                   █         ███████   █           \n",
      "                   █             █ █   █           \n",
      "                   █             █ █   █           \n",
      "                   █             █ █   █           \n",
      "       █████████████             █ █   █           \n",
      "       █                         █ █   █           \n",
      " ███████████                     ███████           \n",
      " █     █   █                       █               \n",
      " █     █   █                       █   ███████     \n",
      " █     █   █                       █   █     █     \n",
      " ███████   █                       █   █     █     \n",
      "           █                       █   █     █     \n",
      "           █                       ███████████     \n",
      "           █                           █           \n",
      "           █                           █   ███████ \n",
      "           █                           █   █     █ \n",
      "           █                         █████ █     █ \n",
      "           █                         █ █ █ █     █ \n",
      "           ███████                   █ ███████████ \n",
      "                 █                   █   █ █       \n",
      "                 █             █████████████       \n",
      "                 █             █     █   █         \n",
      "                 █             █     0   █         \n",
      "                 █             █         █         \n",
      "                 █             █         █         \n",
      "                 █             █         █         \n",
      "                 █             ███████████         \n",
      "                 █                                 \n",
      "                 █                                 \n",
      "                 █                                 \n",
      "                 ██████                            \n"
     ]
    }
   ],
   "source": [
    "dirs = [P(-1,0),P(0,-1),P(1,0), P(0,1)]\n",
    "cur = 1\n",
    "path = []\n",
    "grid = defaultdict(int)\n",
    "m = {\n",
    "    '.': 0,\n",
    "    '#': 1,\n",
    "    '^': 0\n",
    "}\n",
    "\n",
    "for i in range(len(arr)):\n",
    "    for j in range(len(arr[i])):\n",
    "        grid[P(j,i)] = m[arr[i][j]]\n",
    "        if arr[i][j] == '^':\n",
    "            pos = P(j,i)            \n",
    "\n",
    "l = sum(grid.values()) + n\n",
    "i = 0\n",
    "while i < l:\n",
    "    if grid[pos+dirs[cur]]==1:\n",
    "        pos = pos+dirs[cur]\n",
    "        path[-1] += 1\n",
    "        i+=1\n",
    "    else:\n",
    "        cur = (cur+1)%4\n",
    "        if grid[pos+dirs[cur]]==1:\n",
    "            path.append('R')\n",
    "            path.append(0)\n",
    "            continue\n",
    "        else:\n",
    "            path.append('L')\n",
    "            path.append(0)\n",
    "            cur = (cur+2)%4\n",
    "        \n",
    "    paint(grid, highlight=pos)"
   ]
  },
  {
   "cell_type": "code",
   "execution_count": 19,
   "metadata": {},
   "outputs": [
    {
     "name": "stdout",
     "output_type": "stream",
     "text": [
      "17 12 17\n",
      "B,C,B,C,B,A,C,A,B,A\n"
     ]
    }
   ],
   "source": [
    "def to_ord(string):\n",
    "    return list(map(ord,string))+[10]\n",
    "\n",
    "A = 'L,10,L,10,L,4,L,6'\n",
    "B = 'L,6,R,12,L,6'\n",
    "C = 'R,12,L,10,L,4,L,6'\n",
    "print(len(A), len(B), len(C))\n",
    "\n",
    "main = \",\".join(map(str,path)).replace(A, 'A').replace(B, 'B').replace(C,'C')\n",
    "print(main)\n",
    "\n",
    "main = to_ord(main)\n",
    "A = to_ord(A)\n",
    "B = to_ord(B)\n",
    "C = to_ord(C)\n",
    "show = to_ord('y')"
   ]
  },
  {
   "cell_type": "code",
   "execution_count": null,
   "metadata": {},
   "outputs": [],
   "source": []
  },
  {
   "cell_type": "code",
   "execution_count": 20,
   "metadata": {},
   "outputs": [
    {
     "name": "stdout",
     "output_type": "stream",
     "text": [
      "\n",
      "..........................#####..................\n",
      "..........................#...#..................\n",
      "..........................#...#..................\n",
      "..........................#...#..................\n",
      "..........................#...#..................\n",
      "..........................#...#..................\n",
      "..........................#######................\n",
      "..............................#.#................\n",
      "............................###########..........\n",
      "............................#.#.#.....#..........\n",
      "..................#############.#.....#..........\n",
      "..................#.........#...#.....#..........\n",
      "..................#.........#######...#..........\n",
      "..................#.............#.#...#..........\n",
      "..................#.............#.#...#..........\n",
      "..................#.............#.#...#..........\n",
      "......#############.............#.#...#..........\n",
      "......#.........................#.#...#..........\n",
      "###########.....................#######..........\n",
      "#.....#...#.......................#..............\n",
      "#.....#...#.......................#...#######....\n",
      "#.....#...#.......................#...#.....#....\n",
      "#######...#.......................#...#.....#....\n",
      "..........#.......................#...#.....#....\n",
      "..........#.......................###########....\n",
      "..........#...........................#..........\n",
      "..........#...........................#...#######\n",
      "..........#...........................#...#.....#\n",
      "..........#.........................#####.#.....#\n",
      "..........#.........................#.#.#.#.....#\n",
      "..........#######...................#.###########\n",
      "................#...................#...#.#......\n",
      "................#.............#############......\n",
      "................#.............#.....#...#........\n",
      "................#.............#.....v...#........\n",
      "................#.............#.........#........\n",
      "................#.............#.........#........\n",
      "................#.............#.........#........\n",
      "................#.............###########........\n",
      "................#................................\n",
      "................#................................\n",
      "................#................................\n",
      "................#######..........................\n"
     ]
    }
   ],
   "source": [
    "from IPython import display\n",
    "\n",
    "prog = '2'+prog[1:]\n",
    "asci = VM(prog, [*main,*A, *B, *C])\n",
    "_ = [e for e in asci]\n",
    "\n",
    "asci.add_input(*show)\n",
    "try:\n",
    "    while True:\n",
    "        out = ''\n",
    "        for i in range(43):\n",
    "            for j in range(50):\n",
    "                out += chr(asci.run())\n",
    "\n",
    "        display.clear_output(wait=True)\n",
    "        print(out)\n",
    "        asci.run()\n",
    "except StopIteration:\n",
    "    pass"
   ]
  },
  {
   "cell_type": "code",
   "execution_count": 23,
   "metadata": {},
   "outputs": [
    {
     "data": {
      "text/plain": [
       "880360"
      ]
     },
     "execution_count": 23,
     "metadata": {},
     "output_type": "execute_result"
    }
   ],
   "source": [
    "ord(out[1])"
   ]
  },
  {
   "cell_type": "code",
   "execution_count": 24,
   "metadata": {},
   "outputs": [
    {
     "data": {
      "text/plain": [
       "880360"
      ]
     },
     "execution_count": 24,
     "metadata": {},
     "output_type": "execute_result"
    }
   ],
   "source": [
    "show = to_ord('n')\n",
    "asci = VM(prog, [*main,*A, *B, *C, *show])\n",
    "out = None\n",
    "for out in asci:\n",
    "    pass\n",
    "\n",
    "out"
   ]
  }
 ],
 "metadata": {
  "kernelspec": {
   "display_name": "Python 3",
   "language": "python",
   "name": "python3"
  },
  "language_info": {
   "codemirror_mode": {
    "name": "ipython",
    "version": 3
   },
   "file_extension": ".py",
   "mimetype": "text/x-python",
   "name": "python",
   "nbconvert_exporter": "python",
   "pygments_lexer": "ipython3",
   "version": "3.7.5"
  }
 },
 "nbformat": 4,
 "nbformat_minor": 4
}
