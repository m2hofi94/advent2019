{
 "cells": [
  {
   "cell_type": "code",
   "execution_count": 2,
   "metadata": {},
   "outputs": [],
   "source": [
    "import numpy as np\n",
    "import matplotlib.pyplot as plt\n",
    "import re\n",
    "from tqdm.notebook import tqdm\n",
    "from IPython import display\n",
    "import time\n",
    "from time import sleep"
   ]
  },
  {
   "cell_type": "code",
   "execution_count": 8,
   "metadata": {},
   "outputs": [],
   "source": [
    "def get_puzzle(day, part=1):\n",
    "    path = f\"input/{day:02}_{part}.txt\"\n",
    "    with open(path, \"r\") as f:\n",
    "        out = f.read().rstrip()\n",
    "    out = out.split('\\n')\n",
    "    if len(out) == 1:\n",
    "        return out[0]\n",
    "    return out\n",
    "\n",
    "def get_test(day, test=1):\n",
    "    path = f\"input/{day:02}_test_{test}.txt\"\n",
    "    with open(path, \"r\") as f:\n",
    "        out = f.read().rstrip()\n",
    "    out = out.split('\\n')\n",
    "    if len(out) == 1:\n",
    "        return out[0]\n",
    "    return out"
   ]
  },
  {
   "cell_type": "code",
   "execution_count": 3,
   "metadata": {},
   "outputs": [],
   "source": [
    "from collections import namedtuple, defaultdict\n",
    "\n",
    "class P(namedtuple('P', ('x', 'y'))):\n",
    "    def __add__(self, o):\n",
    "        return P(self.x + o[0], self.y+o[1])\n",
    "    def __sub__(self, o):\n",
    "        return P(self.x - o[0], self.y-o[1])\n",
    "    def __mul__(self, o):\n",
    "        return P(self.x * o, self.y * o)\n",
    "    def __truediv__(self, o):\n",
    "        return P(self.x / o, self.y / o)\n",
    "    def __abs__(self):\n",
    "        return (self.x**2 + self.y**2)**0.5\n",
    "    "
   ]
  },
  {
   "cell_type": "code",
   "execution_count": 4,
   "metadata": {},
   "outputs": [],
   "source": [
    "def paint(grid, markers=None, highlight=None, sleep=None, dims=None):\n",
    "    if markers is None:\n",
    "        markers = {0:\" \", 1: \"█\"}\n",
    "        \n",
    "    if dims is None:\n",
    "        x = [g[0] for g in grid.keys()]\n",
    "        y = [g[1] for g in grid.keys()]\n",
    "        min_x = min(x)\n",
    "        max_x = max(x)\n",
    "        min_y = min(y)\n",
    "        max_y = max(y)\n",
    "    else:\n",
    "        min_x,max_x,min_y,max_y = dims\n",
    "    \n",
    "    display.clear_output(wait=True)\n",
    "    for y in range(min_y, max_y+1):\n",
    "        line = \"\"\n",
    "        for x in range(min_x, max_x+1):\n",
    "            if (x,y) == highlight:\n",
    "                line += \"0\"\n",
    "            else:\n",
    "                line += markers[grid[P(x,y)]]\n",
    "        print(line)\n",
    "    if sleep:\n",
    "        time.sleep(sleep)\n",
    "        \n",
    "    return min_x, max_x, min_y, max_y"
   ]
  }
 ],
 "metadata": {
  "kernelspec": {
   "display_name": "Python 3",
   "language": "python",
   "name": "python3"
  },
  "language_info": {
   "codemirror_mode": {
    "name": "ipython",
    "version": 3
   },
   "file_extension": ".py",
   "mimetype": "text/x-python",
   "name": "python",
   "nbconvert_exporter": "python",
   "pygments_lexer": "ipython3",
   "version": "3.7.5"
  }
 },
 "nbformat": 4,
 "nbformat_minor": 4
}
